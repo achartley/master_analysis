{
 "cells": [
  {
   "cell_type": "markdown",
   "metadata": {},
   "source": [
    "# Results - Classification of simulated events\n",
    "This notebook is the primary source of plots and tables for the thesis, with the goal of\n",
    "keeping every table and figure as standardized as possible. (And who has the time to update\n",
    "9 million tables one by one anyway).\n",
    "\n",
    "## TODO\n",
    "* Descriptive statistics\n",
    "    - Should descriptive statistics of the simulated data be included?\\\n",
    "    If so, how much? And should it be included for each fold in the k-fold cross-validation?\n"
   ]
  },
  {
   "cell_type": "code",
   "execution_count": 1,
   "metadata": {},
   "outputs": [],
   "source": [
    "%matplotlib inline\n",
    "%load_ext autoreload\n",
    "%autoreload 2\n",
    "from master_scripts.data_functions import get_git_root\n",
    "from master_scripts.analysis_functions import load_experiment, experiment_metrics_to_df\n",
    "import json\n",
    "import pandas as pd\n",
    "import matplotlib.pyplot as plt\n",
    "import seaborn as sns\n",
    "import numpy as np"
   ]
  },
  {
   "cell_type": "code",
   "execution_count": 2,
   "metadata": {},
   "outputs": [],
   "source": [
    "# Load logistic regression experiment\n",
    "log_ex_id = \"ed25287ad56a\"\n",
    "log_ex = load_experiment(log_ex_id)\n",
    "#log_model = tf.keras.models.load_model(repo_root + \"models/\" + log_ex_id + \".h5\")\n",
    "# Print experiment metrics"
   ]
  },
  {
   "cell_type": "code",
   "execution_count": 3,
   "metadata": {},
   "outputs": [
    {
     "data": {
      "text/html": [
       "<div>\n",
       "<style scoped>\n",
       "    .dataframe tbody tr th:only-of-type {\n",
       "        vertical-align: middle;\n",
       "    }\n",
       "\n",
       "    .dataframe tbody tr th {\n",
       "        vertical-align: top;\n",
       "    }\n",
       "\n",
       "    .dataframe thead th {\n",
       "        text-align: right;\n",
       "    }\n",
       "</style>\n",
       "<table border=\"1\" class=\"dataframe\">\n",
       "  <thead>\n",
       "    <tr style=\"text-align: right;\">\n",
       "      <th></th>\n",
       "      <th>accuracy_score</th>\n",
       "      <th>f1_score</th>\n",
       "      <th>matthews_corrcoef</th>\n",
       "      <th>roc_auc_score</th>\n",
       "      <th>TN</th>\n",
       "      <th>FP</th>\n",
       "      <th>FN</th>\n",
       "      <th>TP</th>\n",
       "    </tr>\n",
       "  </thead>\n",
       "  <tbody>\n",
       "    <tr>\n",
       "      <th>fold_0</th>\n",
       "      <td>0.732354</td>\n",
       "      <td>0.730680</td>\n",
       "      <td>0.464744</td>\n",
       "      <td>0.832184</td>\n",
       "      <td>233881</td>\n",
       "      <td>82806</td>\n",
       "      <td>86703</td>\n",
       "      <td>229944</td>\n",
       "    </tr>\n",
       "    <tr>\n",
       "      <th>fold_1</th>\n",
       "      <td>0.733856</td>\n",
       "      <td>0.731691</td>\n",
       "      <td>0.467771</td>\n",
       "      <td>0.832850</td>\n",
       "      <td>234942</td>\n",
       "      <td>81744</td>\n",
       "      <td>86814</td>\n",
       "      <td>229833</td>\n",
       "    </tr>\n",
       "    <tr>\n",
       "      <th>fold_2</th>\n",
       "      <td>0.733319</td>\n",
       "      <td>0.732164</td>\n",
       "      <td>0.466654</td>\n",
       "      <td>0.832694</td>\n",
       "      <td>233583</td>\n",
       "      <td>83103</td>\n",
       "      <td>85795</td>\n",
       "      <td>230852</td>\n",
       "    </tr>\n",
       "  </tbody>\n",
       "</table>\n",
       "</div>"
      ],
      "text/plain": [
       "        accuracy_score  f1_score  matthews_corrcoef  roc_auc_score      TN  \\\n",
       "fold_0        0.732354  0.730680           0.464744       0.832184  233881   \n",
       "fold_1        0.733856  0.731691           0.467771       0.832850  234942   \n",
       "fold_2        0.733319  0.732164           0.466654       0.832694  233583   \n",
       "\n",
       "           FP     FN      TP  \n",
       "fold_0  82806  86703  229944  \n",
       "fold_1  81744  86814  229833  \n",
       "fold_2  83103  85795  230852  "
      ]
     },
     "metadata": {},
     "output_type": "display_data"
    }
   ],
   "source": [
    "log_metrics = experiment_metrics_to_df(log_ex)\n",
    "display(log_metrics)\n",
    "#display(log_metrics.agg([np.mean, np.std]).applymap('{:.3f}'.format))\n"
   ]
  }
 ],
 "metadata": {
  "kernelspec": {
   "display_name": "Python 3",
   "language": "python",
   "name": "python3"
  },
  "language_info": {
   "codemirror_mode": {
    "name": "ipython",
    "version": 3
   },
   "file_extension": ".py",
   "mimetype": "text/x-python",
   "name": "python",
   "nbconvert_exporter": "python",
   "pygments_lexer": "ipython3",
   "version": "3.8.5"
  }
 },
 "nbformat": 4,
 "nbformat_minor": 4
}
