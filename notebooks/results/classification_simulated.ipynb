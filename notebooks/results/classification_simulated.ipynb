{
 "cells": [
  {
   "cell_type": "markdown",
   "metadata": {},
   "source": [
    "# Results - Classification of simulated events\n",
    "This notebook is the primary source of plots and tables for the thesis, with the goal of\n",
    "keeping every table and figure as standardized as possible. (And who has the time to update\n",
    "9 million tables one by one anyway).\n",
    "\n",
    "## TODO\n",
    "* Descriptive statistics\n",
    "    - Should descriptive statistics of the simulated data be included?\\\n",
    "    If so, how much? And should it be included for each fold in the k-fold cross-validation?\n"
   ]
  },
  {
   "cell_type": "code",
   "execution_count": 1,
   "metadata": {},
   "outputs": [],
   "source": [
    "%matplotlib inline\n",
    "%load_ext autoreload\n",
    "%autoreload 2\n",
    "from master_scripts.data_functions import get_git_root\n",
    "from master_scripts.analysis_functions import load_experiment\n",
    "import json\n",
    "import pandas as pd\n",
    "import matplotlib.pyplot as plt\n",
    "import seaborn as sns\n",
    "import numpy as np"
   ]
  },
  {
   "cell_type": "code",
   "execution_count": 3,
   "metadata": {},
   "outputs": [
    {
     "name": "stdout",
     "output_type": "stream",
     "text": [
      "==== Experiment metrics\n",
      "{\n",
      "  \"accuracy_score\": 0.7416315789473684,\n",
      "  \"confusion_matrix\": {\n",
      "    \"TN\": 194025,\n",
      "    \"FP\": 43507,\n",
      "    \"FN\": 79218,\n",
      "    \"TP\": 158250\n",
      "  },\n",
      "  \"f1_score\": 0.7205873982582959,\n",
      "  \"matthews_corrcoef\": 0.48881019350314264,\n",
      "  \"roc_auc_score\": 0.833443392522035\n",
      "}\n",
      "====\n"
     ]
    }
   ],
   "source": [
    "# Load logistic regression experiment\n",
    "log_ex_id = \"506935fb625e\"\n",
    "log_ex = load_experiment(log_ex_id)\n",
    "#log_model = tf.keras.models.load_model(repo_root + \"models/\" + c_experiment_id + \".h5\")\n",
    "# Print experiment metrics\n",
    "print(\"==== Experiment metrics\")\n",
    "print(json.dumps(log_ex['metrics'], indent=2))\n",
    "print(\"====\")"
   ]
  }
 ],
 "metadata": {
  "kernelspec": {
   "display_name": "Python 3",
   "language": "python",
   "name": "python3"
  },
  "language_info": {
   "codemirror_mode": {
    "name": "ipython",
    "version": 3
   },
   "file_extension": ".py",
   "mimetype": "text/x-python",
   "name": "python",
   "nbconvert_exporter": "python",
   "pygments_lexer": "ipython3",
   "version": "3.8.6"
  }
 },
 "nbformat": 4,
 "nbformat_minor": 4
}
