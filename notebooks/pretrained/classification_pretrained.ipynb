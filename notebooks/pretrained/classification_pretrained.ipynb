{
 "cells": [
  {
   "cell_type": "markdown",
   "metadata": {},
   "source": [
    "# Classification using pretrained, well-known models\n",
    "This notebook aims to create a set of benchmarks for the project, using well-known, thoroughly studied models.\n",
    "Either with pretrained weights, or training with new data."
   ]
  },
  {
   "cell_type": "markdown",
   "metadata": {},
   "source": [
    "## Notes\n",
    "### 21.08.19\n",
    "Attempting to classify with VGG has not proven effective yet.\n",
    "Initially, the image data was note scaled at all. Implemented scaling in the\n",
    "import function, using min-max scaling of the value. This preserves the inherent\n",
    "intensity difference between images.\n",
    "\n",
    "The number of layers of VGG16 used is varied between 3 to 9 without noticable\n",
    "difference. Attempting to find out why, by analyzing the extracted features.\n",
    "The idea is that in order to classify, the feature distribution should be\n",
    "different for images containing single and double events.\n",
    "I first attempt this with manual qualitative inspection.\n",
    "\n",
    "Manual, qualitative inspection reveals that the distributions look very similar.\n",
    "Performing a quantitative study using Kolmogorov-Smirnov two-sample test,\n",
    "comparing the distribution for each feature.\n",
    "\n",
    "* For 1 block (depth 3), the pvalue returned from comparisons is 1.0 for all features.\n",
    "* For 2 blocks (depth 6), the pvalue returned from comparisons is 1.0 for all features.\n",
    "* For 3 blocks (depth 10), the pvalue returned from comparisons is 1.0 for all features.\n",
    "* For 4 blocks, (depth 14) the pvalue returned from comparisons is 1.0 for all features.\n",
    "* For 5 blocks, (depth 18) the pvalue returned from comparisons is 1.0 for all features.\n",
    "\n",
    "This indicates that extracting features using vgg16 doesn't work for classification.\n",
    "I still want to confirm that the weights of the vgg layers are the imagenet weights.\n",
    "\n",
    "### 22.08.19\n",
    "Going to use a reference image from imagenet to verify that the vgg-layers behave\n",
    "as expected.\n",
    "* Reference produces very similar feature output as simulated data\n",
    "\n",
    "Rewrote the vgg_model script to be able to import any pretrained model from\n",
    "tensorflow, and extended data import to handle single files (for large file)\n",
    "and possibility to specify number of samples to include.\n",
    "\n",
    "### 23.08.19\n",
    "Import scripts fixed so that array dimensions are correct independent of folder or single\n",
    "file import.\n",
    "\n",
    "Tests on multiple nets with 10k events give same results as for VGG.\n",
    "\n",
    "### 24.08.19\n",
    "Running checks on feature distribution with the full networks and 200k events.\n",
    "With 200k events there are models which from the p-value given by the KS two-sample test\n",
    "should be possible to classify with. Interstingly, VGG16 and VGG19 show a large variance in which\n",
    "features are seemingly drawn from different distributions.\n",
    "\n",
    "Need to run for: NASNetLarge, ResNet50 and Xception, but running into memory problems.\n",
    "\n",
    "### 25.08.19\n",
    "Some NaN values in output features from VGG. When removed, the network trains to acc = 0.9\n",
    "on the features. \n",
    "\n",
    "Implemented save_feature_representation and load_feature_representation.\n",
    "\n",
    "### 04.09.19\n",
    "Storing 200k events to use for generating feature representations for classification.\n",
    "\n",
    "### 09.09.19\n",
    "Previously trained fully connected nets on the feature output from all pretrained networks available\n",
    "at full depth. The fully-connected nets were configured so that the input layer had a number of nodes\n",
    "equal to the number of features output from the convolutional block before it (because the input shape\n",
    "must be defined). After that, two layers of 512 nodes with RELu actication functions, into one\n",
    "2-node layer with softmax.\n",
    "Results:\n",
    "* __DenseNet121__: \n",
    "    Accuracy starts around 0.86 first epoch and rises to just under 0.94 at maximum.\n",
    "    Somewhat unstable.\n",
    "* __DenseNet169__: \n",
    "    Very similar to DenseNet121, but starts at around 0.90\n",
    "* __DenseNet201__: \n",
    "    Very similar to other two DenseNets, but more stable above 0.92 for epoch 4+.\n",
    "* __InceptionResNetV2__: \n",
    "    Starts at 0.84, maxes just above 0.88. A bit zig-zag.\n",
    "* __InceptionV3__: \n",
    "    Similar to V2 above, but starts lower and maxes out higher (0.90). Huge dip at epoch 7,\n",
    "    around same spot as DenseNets.\n",
    "* __MobileNet__: \n",
    "    Didn't learn anything.\n",
    "* __MobileNetV2__: \n",
    "    Didn't learn anything.\n",
    "* __NASNetLarge__: \n",
    "    Starts at 0.88, maxes out at 0.92 ish. Stable nice increase in accuracy with small dip at last epoch.\n",
    "* __NASNetMobile__: \n",
    "    Roughly same as NASNetLarge, but a little more zig-zag in the curve.\n",
    "* __ResNet50__: \n",
    "    Didn't learn anything.\n",
    "* __VGG16__: \n",
    "    A lot of zig-zag, but between 0.88 and just under 0.92 (max), so it's a small span.\n",
    "    Stops zig-zagging on max and becomes pretty much flat.\n",
    "* __VGG19__: \n",
    "    Smaller zig-zag distances, steady increase up to around 0.90 for maximum.\n",
    "* __Xception__: \n",
    "    Starts high (0.88) and slowly rises to a maximum of 0.92, a dip around epoch 6 like many others.\n",
    "    \n",
    "From this I think the nets that didn't weren't able to extract anything from the features can be\n",
    "ignored for a while, to focus on those that performed well. This leaves the following nets as possible\n",
    "points of interest:\n",
    "* DenseNet201 (best of the DenseNets, keep the others in mind)\n",
    "* NASNetLarge (keep NASNetMobile in mind)\n",
    "* VGG16\n",
    "* VGG19\n",
    "* Xception\n",
    "\n",
    "### 15.09.19\n",
    "Simple implementation of distance-checking of double events done.\n",
    "Results indicate that the model struggles more with events that are close together.\n",
    "Specifically, I've looked at the ratio of correctly classified double events where\n",
    "the events are less than 3mm apart.\n",
    "\n",
    "### 16.09.19\n",
    "* Compare feature distributions of single events and double events with distance < 3mm.\n",
    "Plots produced. There is a similar difference between single events and close double events,\n",
    "as between single events and double events in general.\n",
    "\n",
    "* Is the number of close events large enough to be confident in the result of the KS two-sample test?\n",
    "* What does the above result imply?\n",
    "* Is weighting the training data such that close events are weighted higher than others a good idea? Would this introduce a bias?\n",
    "\n",
    "### 18.09.19\n",
    "Producing histograms of correct vs wrong classifications for predictions on double events, specifically.\n",
    "This gives additional insight in how well the models classify events, especially compared with the total\n",
    "accuracy. An example is VGG16: The total accuracy for classification is around 0.88-0.92, but when looking\n",
    "at event with a distance lower than 3mm between them, the ratio of correctly classified close events is \n",
    "around 0.4. Densenet201 full depth has comparable total accuracy, but a ratio for close events at 0.72, \n",
    "which is significantly better."
   ]
  },
  {
   "cell_type": "markdown",
   "metadata": {},
   "source": [
    "## TODO:\n",
    "* Implement functions to save and load trained fully-connected networks\n",
    "* Need a way to compare models where validation and test data is consistent.\n",
    "    * This can be part of a new train_test_split which also creates validation data. Could possibly be solved by simply doing train_test_split twice. first on full data, then on the resulting test-data.\n",
    "\n",
    "\n",
    "\n"
   ]
  },
  {
   "cell_type": "code",
   "execution_count": 1,
   "metadata": {},
   "outputs": [
    {
     "name": "stderr",
     "output_type": "stream",
     "text": [
      "/home/geir/git/master_analysis/notebooks/pretrained/pretrained_venv/lib/python3.6/site-packages/tensorflow/python/framework/dtypes.py:516: FutureWarning: Passing (type, 1) or '1type' as a synonym of type is deprecated; in a future version of numpy, it will be understood as (type, (1,)) / '(1,)type'.\n",
      "  _np_qint8 = np.dtype([(\"qint8\", np.int8, 1)])\n",
      "/home/geir/git/master_analysis/notebooks/pretrained/pretrained_venv/lib/python3.6/site-packages/tensorflow/python/framework/dtypes.py:517: FutureWarning: Passing (type, 1) or '1type' as a synonym of type is deprecated; in a future version of numpy, it will be understood as (type, (1,)) / '(1,)type'.\n",
      "  _np_quint8 = np.dtype([(\"quint8\", np.uint8, 1)])\n",
      "/home/geir/git/master_analysis/notebooks/pretrained/pretrained_venv/lib/python3.6/site-packages/tensorflow/python/framework/dtypes.py:518: FutureWarning: Passing (type, 1) or '1type' as a synonym of type is deprecated; in a future version of numpy, it will be understood as (type, (1,)) / '(1,)type'.\n",
      "  _np_qint16 = np.dtype([(\"qint16\", np.int16, 1)])\n",
      "/home/geir/git/master_analysis/notebooks/pretrained/pretrained_venv/lib/python3.6/site-packages/tensorflow/python/framework/dtypes.py:519: FutureWarning: Passing (type, 1) or '1type' as a synonym of type is deprecated; in a future version of numpy, it will be understood as (type, (1,)) / '(1,)type'.\n",
      "  _np_quint16 = np.dtype([(\"quint16\", np.uint16, 1)])\n",
      "/home/geir/git/master_analysis/notebooks/pretrained/pretrained_venv/lib/python3.6/site-packages/tensorflow/python/framework/dtypes.py:520: FutureWarning: Passing (type, 1) or '1type' as a synonym of type is deprecated; in a future version of numpy, it will be understood as (type, (1,)) / '(1,)type'.\n",
      "  _np_qint32 = np.dtype([(\"qint32\", np.int32, 1)])\n",
      "/home/geir/git/master_analysis/notebooks/pretrained/pretrained_venv/lib/python3.6/site-packages/tensorflow/python/framework/dtypes.py:525: FutureWarning: Passing (type, 1) or '1type' as a synonym of type is deprecated; in a future version of numpy, it will be understood as (type, (1,)) / '(1,)type'.\n",
      "  np_resource = np.dtype([(\"resource\", np.ubyte, 1)])\n",
      "/home/geir/git/master_analysis/notebooks/pretrained/pretrained_venv/lib/python3.6/site-packages/tensorboard/compat/tensorflow_stub/dtypes.py:541: FutureWarning: Passing (type, 1) or '1type' as a synonym of type is deprecated; in a future version of numpy, it will be understood as (type, (1,)) / '(1,)type'.\n",
      "  _np_qint8 = np.dtype([(\"qint8\", np.int8, 1)])\n",
      "/home/geir/git/master_analysis/notebooks/pretrained/pretrained_venv/lib/python3.6/site-packages/tensorboard/compat/tensorflow_stub/dtypes.py:542: FutureWarning: Passing (type, 1) or '1type' as a synonym of type is deprecated; in a future version of numpy, it will be understood as (type, (1,)) / '(1,)type'.\n",
      "  _np_quint8 = np.dtype([(\"quint8\", np.uint8, 1)])\n",
      "/home/geir/git/master_analysis/notebooks/pretrained/pretrained_venv/lib/python3.6/site-packages/tensorboard/compat/tensorflow_stub/dtypes.py:543: FutureWarning: Passing (type, 1) or '1type' as a synonym of type is deprecated; in a future version of numpy, it will be understood as (type, (1,)) / '(1,)type'.\n",
      "  _np_qint16 = np.dtype([(\"qint16\", np.int16, 1)])\n",
      "/home/geir/git/master_analysis/notebooks/pretrained/pretrained_venv/lib/python3.6/site-packages/tensorboard/compat/tensorflow_stub/dtypes.py:544: FutureWarning: Passing (type, 1) or '1type' as a synonym of type is deprecated; in a future version of numpy, it will be understood as (type, (1,)) / '(1,)type'.\n",
      "  _np_quint16 = np.dtype([(\"quint16\", np.uint16, 1)])\n",
      "/home/geir/git/master_analysis/notebooks/pretrained/pretrained_venv/lib/python3.6/site-packages/tensorboard/compat/tensorflow_stub/dtypes.py:545: FutureWarning: Passing (type, 1) or '1type' as a synonym of type is deprecated; in a future version of numpy, it will be understood as (type, (1,)) / '(1,)type'.\n",
      "  _np_qint32 = np.dtype([(\"qint32\", np.int32, 1)])\n",
      "/home/geir/git/master_analysis/notebooks/pretrained/pretrained_venv/lib/python3.6/site-packages/tensorboard/compat/tensorflow_stub/dtypes.py:550: FutureWarning: Passing (type, 1) or '1type' as a synonym of type is deprecated; in a future version of numpy, it will be understood as (type, (1,)) / '(1,)type'.\n",
      "  np_resource = np.dtype([(\"resource\", np.ubyte, 1)])\n"
     ]
    }
   ],
   "source": [
    "# Imports\n",
    "import numpy as np\n",
    "import tensorflow as tf\n",
    "from tensorflow.keras.utils import to_categorical\n",
    "import sys\n",
    "import matplotlib.pyplot as plt\n",
    "from master_data_functions.functions import import_data,save_feature_representation,load_feature_representation\n",
    "from master_models.pretrained import pretrained_model\n",
    "from master_data_functions.functions import double_event_distance, get_close_events\n",
    "%load_ext autoreload\n",
    "%autoreload 2"
   ]
  },
  {
   "cell_type": "code",
   "execution_count": 2,
   "metadata": {
    "scrolled": true
   },
   "outputs": [
    {
     "name": "stdout",
     "output_type": "stream",
     "text": [
      "Number of classes: 2\n",
      "Images shape: (200000, 16, 16, 1)\n",
      "Energies shape: (200000, 2)\n",
      "Positions shape: (200000, 4)\n",
      "Labels shape: (200000, 2)\n"
     ]
    }
   ],
   "source": [
    "\n",
    "# File import\n",
    "# Sample filenames are:\n",
    "# CeBr10kSingle_1.txt -> single events, \n",
    "# CeBr10kSingle_2.txt -> single events\n",
    "# CeBr10k_1.txt -> mixed single and double events \n",
    "# CeBr10.txt -> small file of 10 samples\n",
    "# CeBr2Mil_Mix.txt -> 2 million mixed samples of simulated events\n",
    "\n",
    "# Flag import, since we can now import 200k events from .npy files\n",
    "from_file = False\n",
    "if from_file:\n",
    "\n",
    "    folder = \"simulated\"\n",
    "    filename = \"CeBr2Mil_Mix.txt\"\n",
    "    num_samples = 2e5\n",
    "    #folder = \"sample\"\n",
    "    #filename = \"CeBr10k_1.txt\"\n",
    "    #num_samples = 1e3\n",
    "\n",
    "    data = import_data(folder=folder, filename=filename, num_samples=num_samples)\n",
    "    images = data[filename][\"images\"]\n",
    "    energies = data[filename][\"energies\"]\n",
    "    positions = data[filename][\"positions\"]\n",
    "    labels = to_categorical(data[filename][\"labels\"])\n",
    "    n_classes = labels.shape[1]\n",
    "else:\n",
    "    images = load_feature_representation(\"images_200k.npy\")\n",
    "    energies = load_feature_representation(\"energies_200k.npy\")\n",
    "    positions = load_feature_representation(\"positions_200k.npy\")\n",
    "    labels = load_feature_representation(\"labels_200k.npy\")\n",
    "\n",
    "n_classes = labels.shape[1]\n",
    "print(\"Number of classes: {}\".format(n_classes))\n",
    "print(\"Images shape: {}\".format(images.shape))\n",
    "print(\"Energies shape: {}\".format(energies.shape))\n",
    "print(\"Positions shape: {}\".format(positions.shape))\n",
    "print(\"Labels shape: {}\".format(labels.shape))\n"
   ]
  },
  {
   "cell_type": "code",
   "execution_count": 3,
   "metadata": {},
   "outputs": [
    {
     "name": "stdout",
     "output_type": "stream",
     "text": [
      "Image data shape: (200000, 16, 16, 3)\n"
     ]
    }
   ],
   "source": [
    "# VGG16 expects 3 channels. Solving this by concatenating the image data \n",
    "# to itself, to form three identical channels\n",
    "\n",
    "images = np.concatenate((images, images, images), axis=3)\n",
    "print(\"Image data shape: {}\".format(images.shape))"
   ]
  },
  {
   "cell_type": "markdown",
   "metadata": {},
   "source": [
    "## Classification with custom dense network\n",
    "### Multiple dense model\n",
    "Build a dense model for each pretrained model form which a feature representation has been saved."
   ]
  },
  {
   "cell_type": "code",
   "execution_count": 57,
   "metadata": {},
   "outputs": [],
   "source": [
    "# Keys: model names, Values: depth to compare at.\n",
    "pretrained_models = {\n",
    "    \"DenseNet121\":None, #8\n",
    "    \"DenseNet169\":None, #8\n",
    "    \"DenseNet201\":None, #8\n",
    "    \"InceptionResNetV2\":None, #8\n",
    "    \"InceptionV3\":None, #8\n",
    "    \"MobileNet\":None, #8\n",
    "    \"MobileNetV2\":None, #5\n",
    "    \"NASNetLarge\":None, #4\n",
    "    \"NASNetMobile\":None, #4\n",
    "    \"ResNet50\":None, #8\n",
    "    \"VGG16\":None,\n",
    "    \"VGG19\":None,\n",
    "    \"Xception\":None, #6\n",
    "    }"
   ]
  },
  {
   "cell_type": "code",
   "execution_count": null,
   "metadata": {
    "scrolled": true
   },
   "outputs": [],
   "source": [
    "# Train a fully-connected network to classify based on\n",
    "# extracted features\n",
    "from tensorflow.keras.models import Sequential\n",
    "from tensorflow.keras.layers import Dense, Activation\n",
    "from sklearn.model_selection import train_test_split\n",
    "    \n",
    "# Set up and train a network for each of the pretrained features available    \n",
    "for net, depth in pretrained_models.items():\n",
    "    print(\"Running for:\", net)\n",
    "    \n",
    "    # Load features\n",
    "    if depth is None:\n",
    "        depth = \"full\"\n",
    "    features_filename = net + \"_d\" + str(depth) + \"_\" + str(images.shape[0]) + \".npy\"\n",
    "    pretrained_features = load_feature_representation(features_filename)\n",
    "    model = Sequential()\n",
    "    model.add(Dense(512, input_shape=pretrained_features.shape[1:]))\n",
    "    model.add(Activation('relu'))\n",
    "    model.add(Dense(512))\n",
    "    model.add(Activation('relu'))\n",
    "    model.add(Dense(2, activation='softmax'))\n",
    "\n",
    "    model.compile(optimizer='adam',\n",
    "                  loss='binary_crossentropy',\n",
    "                  metrics=['accuracy'])\n",
    "    \n",
    "    # Remove nan values from pretrained_features (and remove labels which produces them)\n",
    "    nan_indices = []\n",
    "    for i in range(pretrained_features.shape[0]):\n",
    "        if np.isnan(pretrained_features[i,:]).any():\n",
    "            nan_indices.append(i)\n",
    "    pretrained_features = np.delete(pretrained_features, nan_indices, axis=0)\n",
    "    tmp_labels = np.delete(labels, nan_indices, axis=0)\n",
    "\n",
    "    # Split the data into training and test sets\n",
    "    x_train, x_test, y_train, y_test = train_test_split(pretrained_features, tmp_labels, test_size = 0.2)    \n",
    "    \n",
    "    # Train the model\n",
    "    history = model.fit(\n",
    "        x_train, \n",
    "        y_train, \n",
    "        epochs=10, \n",
    "        batch_size=32,\n",
    "        validation_data=(x_test, y_test))\n",
    "    \n",
    "    acc_filename = net + \"_d\" + str(depth) + \"_\" + str(pretrained_features.shape[0]) + \"_accuracy\"\n",
    "    loss_filename = net + \"_d\" + str(depth) + \"_\" + str(pretrained_features.shape[0]) + \"_loss\"\n",
    "\n",
    "    # Plot training & validation accuracy values\n",
    "    plt.plot(history.history['accuracy'])\n",
    "    plt.plot(history.history['val_accuracy'])\n",
    "    plt.title('Model accuracy')\n",
    "    plt.ylabel('Accuracy')\n",
    "    plt.xlabel('Epoch')\n",
    "    plt.legend(['Train', 'Test'], loc='upper left')\n",
    "    plt.savefig(acc_filename)\n",
    "    plt.clf()\n",
    "\n",
    "    # Plot training & validation loss values\n",
    "    plt.plot(history.history['loss'])\n",
    "    plt.plot(history.history['val_loss'])\n",
    "    plt.title('Model loss')\n",
    "    plt.ylabel('Loss')\n",
    "    plt.xlabel('Epoch')\n",
    "    plt.legend(['Train', 'Test'], loc='upper left')\n",
    "    plt.savefig(loss_filename)\n",
    "    plt.clf()\n",
    "    \n"
   ]
  },
  {
   "cell_type": "markdown",
   "metadata": {},
   "source": [
    "### Single dense model for one pretrained model"
   ]
  },
  {
   "cell_type": "code",
   "execution_count": 52,
   "metadata": {
    "scrolled": true
   },
   "outputs": [
    {
     "name": "stdout",
     "output_type": "stream",
     "text": [
      "Train on 143998 samples, validate on 16000 samples\n",
      "Epoch 1/5\n",
      "143998/143998 [==============================] - 24s 168us/sample - loss: 0.3107 - accuracy: 0.8752 - val_loss: 0.2581 - val_accuracy: 0.9040\n",
      "Epoch 2/5\n",
      "143998/143998 [==============================] - 22s 150us/sample - loss: 0.2706 - accuracy: 0.8970 - val_loss: 0.2514 - val_accuracy: 0.9099\n",
      "Epoch 3/5\n",
      "143998/143998 [==============================] - 22s 150us/sample - loss: 0.2621 - accuracy: 0.9009 - val_loss: 0.2627 - val_accuracy: 0.9020\n",
      "Epoch 4/5\n",
      "143998/143998 [==============================] - 21s 149us/sample - loss: 0.2527 - accuracy: 0.9058 - val_loss: 0.2853 - val_accuracy: 0.8832\n",
      "Epoch 5/5\n",
      "143998/143998 [==============================] - 22s 154us/sample - loss: 0.2512 - accuracy: 0.9064 - val_loss: 0.2538 - val_accuracy: 0.9070\n"
     ]
    }
   ],
   "source": [
    "from tensorflow.keras.models import Sequential\n",
    "from tensorflow.keras.layers import Dense, Activation\n",
    "from sklearn.model_selection import train_test_split\n",
    "# Single net testing\n",
    "\n",
    "net = \"VGG16\"\n",
    "depth = \"full\"\n",
    "epochs = 5\n",
    "# Load features\n",
    "features_filename = net + \"_d\" + str(depth) + \"_\" + str(images.shape[0]) + \".npy\"\n",
    "pretrained_features = load_feature_representation(features_filename)\n",
    "model = Sequential()\n",
    "model.add(Dense(512, input_shape=pretrained_features.shape[1:]))\n",
    "model.add(Activation('relu'))\n",
    "model.add(Dense(512))\n",
    "model.add(Activation('relu'))\n",
    "model.add(Dense(2, activation='softmax'))\n",
    "\n",
    "model.compile(optimizer='adam',\n",
    "              loss='binary_crossentropy',\n",
    "              metrics=['accuracy'])\n",
    "\n",
    "# Remove nan values from pretrained_features (and remove labels which produces them)\n",
    "nan_indices = []\n",
    "for i in range(pretrained_features.shape[0]):\n",
    "    if np.isnan(pretrained_features[i,:]).any():\n",
    "        nan_indices.append(i)\n",
    "pretrained_features = np.delete(pretrained_features, nan_indices, axis=0)\n",
    "tmp_labels = np.delete(labels, nan_indices, axis=0)\n",
    "tmp_positions = np.delete(positions, nan_indices, axis=0)\n",
    "\n",
    "labels_positions = np.concatenate((tmp_labels, tmp_positions), axis=1)\n",
    "\n",
    "# Split the data into training and test sets\n",
    "x_train, x_test, y_train, y_test = train_test_split(pretrained_features, labels_positions, test_size = 0.2)    \n",
    "\n",
    "test_positions = y_test[:, 2:]\n",
    "train_positions = y_train[:, 2:]\n",
    "y_test = y_test[:, :2]\n",
    "y_train = y_train[:, :2]\n",
    "\n",
    "# Train the model\n",
    "history = model.fit(\n",
    "    x_train, \n",
    "    y_train, \n",
    "    epochs=epochs, \n",
    "    batch_size=32,\n",
    "    validation_split=0.1)\n",
    "\n",
    "\n",
    "\n"
   ]
  },
  {
   "cell_type": "markdown",
   "metadata": {},
   "source": [
    "### Predict on test set and evaluate"
   ]
  },
  {
   "cell_type": "code",
   "execution_count": 53,
   "metadata": {},
   "outputs": [],
   "source": [
    "tmp_predicted = model.predict(x_test)\n",
    "tmp_results = tmp_predicted.argmax(axis=-1)\n",
    "double_events = double_event_distance(tmp_results, test_positions)\n"
   ]
  },
  {
   "cell_type": "code",
   "execution_count": 54,
   "metadata": {
    "scrolled": true
   },
   "outputs": [
    {
     "name": "stdout",
     "output_type": "stream",
     "text": [
      "Mean dist all double events:  9.736169023379224\n",
      "Mean dist correct double events:  10.280310006531995\n",
      "Mean dist double events:  7.121572390002906\n",
      "Ratio correctly classified events with dist < 3mm:  0.39263803680981596\n"
     ]
    }
   ],
   "source": [
    "# double_events contain (predicted_class, distance between event origins)\n",
    "# All the events are double events, so if predicted class is 0, the predicted\n",
    "# class is wrong.\n",
    "\n",
    "correct = np.where(double_events[:,0] == 1)\n",
    "wrong = np.where(double_events[:,0] == 0)\n",
    "\n",
    "mean_correct = np.mean(double_events[correct][:,1])\n",
    "mean_wrong = np.mean(double_events[wrong][:,1])\n",
    "mean_all = np.mean(double_events[:,1])\n",
    "\n",
    "# Ratio of correctly classified double events with a distance between\n",
    "# events < 3mm\n",
    "close_events = np.where(double_events[:,1] < 3.0)\n",
    "ratio_close = np.count_nonzero(double_events[close_events][:,0])/len(double_events[close_events][:,0])\n",
    "\n",
    "\n",
    "\n",
    "# Output\n",
    "print(\"Mean dist all double events: \", mean_all)\n",
    "print(\"Mean dist correct double events: \", mean_correct)\n",
    "print(\"Mean dist double events: \", mean_wrong)\n",
    "print(\"Ratio correctly classified events with dist < 3mm: \", ratio_close)\n",
    "\n",
    "del(tmp_predicted)\n",
    "del(tmp_results)\n",
    "\n"
   ]
  },
  {
   "cell_type": "code",
   "execution_count": 70,
   "metadata": {
    "scrolled": true
   },
   "outputs": [
    {
     "data": {
      "text/plain": [
       "Text(0, 760, 'ratio correct < 3mm = 0.39')"
      ]
     },
     "execution_count": 70,
     "metadata": {},
     "output_type": "execute_result"
    },
    {
     "data": {
      "image/png": "[encoded data removed]",
      "text/plain": [
       "<Figure size 864x288 with 2 Axes>"
      ]
     },
     "metadata": {
      "needs_background": "light"
     },
     "output_type": "display_data"
    }
   ],
   "source": [
    "# Histograms\n",
    "fig, ax = plt.subplots(1, 2, sharex='col', sharey='row', figsize=(12,4))\n",
    "ax[0].hist(double_events[:,1], bins=50)\n",
    "ax[0].set_title(\"Distances between all double events\")\n",
    "ax[0].text(0, 880, r'$\\mu$ = {:.2f} mm'.format(mean_all))\n",
    "ax[1].hist(double_events[correct][:,1], bins=50, alpha=0.5, label=\"correct\")\n",
    "ax[1].hist(double_events[wrong][:,1], bins=50, alpha=0.5, label=\"wrong\")\n",
    "ax[1].set_title(\"Distances between classified events\")\n",
    "ax[1].legend()\n",
    "ax[1].text(0, 880, r'$\\mu$ correct = {:.2f} mm'.format(mean_correct))\n",
    "ax[1].text(0, 820, r'$\\mu$ wrong = {:.2f} mm'.format(mean_wrong))\n",
    "ax[1].text(0, 760, r'ratio correct < 3mm = {:.2f}'.format(ratio_close))\n"
   ]
  },
  {
   "cell_type": "code",
   "execution_count": 77,
   "metadata": {},
   "outputs": [
    {
     "name": "stdout",
     "output_type": "stream",
     "text": [
      "Running for: DenseNet121\n",
      "Train on 144000 samples, validate on 16000 samples\n",
      "Epoch 1/5\n",
      "144000/144000 [==============================] - 22s 150us/sample - loss: 0.3484 - accuracy: 0.8488 - val_loss: 0.2748 - val_accuracy: 0.8937\n",
      "Epoch 2/5\n",
      "144000/144000 [==============================] - 21s 146us/sample - loss: 0.2782 - accuracy: 0.8901 - val_loss: 0.2663 - val_accuracy: 0.8966\n",
      "Epoch 3/5\n",
      "144000/144000 [==============================] - 21s 146us/sample - loss: 0.2552 - accuracy: 0.9023 - val_loss: 0.2655 - val_accuracy: 0.8941\n",
      "Epoch 4/5\n",
      "144000/144000 [==============================] - 20s 141us/sample - loss: 0.2390 - accuracy: 0.9108 - val_loss: 0.2383 - val_accuracy: 0.9154\n",
      "Epoch 5/5\n",
      "144000/144000 [==============================] - 19s 135us/sample - loss: 0.2314 - accuracy: 0.9147 - val_loss: 0.2271 - val_accuracy: 0.9179\n",
      "Running for: DenseNet169\n",
      "Train on 143998 samples, validate on 16000 samples\n",
      "Epoch 1/5\n",
      "143998/143998 [==============================] - 20s 138us/sample - loss: 0.3241 - accuracy: 0.8631 - val_loss: 0.2922 - val_accuracy: 0.8799\n",
      "Epoch 2/5\n",
      "143998/143998 [==============================] - 20s 137us/sample - loss: 0.2669 - accuracy: 0.8967 - val_loss: 0.2616 - val_accuracy: 0.8991\n",
      "Epoch 3/5\n",
      "143998/143998 [==============================] - 20s 137us/sample - loss: 0.2449 - accuracy: 0.9077 - val_loss: 0.2303 - val_accuracy: 0.9226\n",
      "Epoch 4/5\n",
      "143998/143998 [==============================] - 19s 134us/sample - loss: 0.2325 - accuracy: 0.9139 - val_loss: 0.2255 - val_accuracy: 0.9184\n",
      "Epoch 5/5\n",
      "143998/143998 [==============================] - 20s 137us/sample - loss: 0.2239 - accuracy: 0.9180 - val_loss: 0.2571 - val_accuracy: 0.9009\n",
      "Running for: DenseNet201\n",
      "Train on 143998 samples, validate on 16000 samples\n",
      "Epoch 1/5\n",
      "143998/143998 [==============================] - 19s 135us/sample - loss: 0.3256 - accuracy: 0.8619 - val_loss: 0.3170 - val_accuracy: 0.8594\n",
      "Epoch 2/5\n",
      "143998/143998 [==============================] - 19s 135us/sample - loss: 0.2618 - accuracy: 0.8981 - val_loss: 0.2168 - val_accuracy: 0.9195\n",
      "Epoch 3/5\n",
      "143998/143998 [==============================] - 19s 135us/sample - loss: 0.2321 - accuracy: 0.9131 - val_loss: 0.1959 - val_accuracy: 0.9303\n",
      "Epoch 4/5\n",
      "143998/143998 [==============================] - 19s 134us/sample - loss: 0.2179 - accuracy: 0.9208 - val_loss: 0.2373 - val_accuracy: 0.9137\n",
      "Epoch 5/5\n",
      "143998/143998 [==============================] - 19s 134us/sample - loss: 0.2091 - accuracy: 0.9250 - val_loss: 0.2699 - val_accuracy: 0.8876\n",
      "Running for: InceptionResNetV2\n",
      "Train on 144000 samples, validate on 16000 samples\n",
      "Epoch 1/5\n",
      "144000/144000 [==============================] - 19s 133us/sample - loss: 0.4825 - accuracy: 0.7609 - val_loss: 0.4533 - val_accuracy: 0.7679\n",
      "Epoch 2/5\n",
      "144000/144000 [==============================] - 19s 133us/sample - loss: 0.3887 - accuracy: 0.8296 - val_loss: 0.3291 - val_accuracy: 0.8677\n",
      "Epoch 3/5\n",
      "144000/144000 [==============================] - 19s 132us/sample - loss: 0.3546 - accuracy: 0.8498 - val_loss: 0.3494 - val_accuracy: 0.8444\n",
      "Epoch 4/5\n",
      "144000/144000 [==============================] - 19s 132us/sample - loss: 0.3365 - accuracy: 0.8595 - val_loss: 0.3040 - val_accuracy: 0.8783\n",
      "Epoch 5/5\n",
      "144000/144000 [==============================] - 19s 131us/sample - loss: 0.3251 - accuracy: 0.8671 - val_loss: 0.3269 - val_accuracy: 0.8612\n",
      "Running for: InceptionV3\n",
      "Train on 144000 samples, validate on 16000 samples\n",
      "Epoch 1/5\n",
      "144000/144000 [==============================] - 18s 128us/sample - loss: 0.4710 - accuracy: 0.7672 - val_loss: 0.4097 - val_accuracy: 0.8099\n",
      "Epoch 2/5\n",
      "144000/144000 [==============================] - 18s 124us/sample - loss: 0.3814 - accuracy: 0.8306 - val_loss: 0.3535 - val_accuracy: 0.8519\n",
      "Epoch 3/5\n",
      "144000/144000 [==============================] - 18s 127us/sample - loss: 0.3484 - accuracy: 0.8513 - val_loss: 0.3184 - val_accuracy: 0.8701\n",
      "Epoch 4/5\n",
      "144000/144000 [==============================] - 18s 126us/sample - loss: 0.3282 - accuracy: 0.8629 - val_loss: 0.3314 - val_accuracy: 0.8637\n",
      "Epoch 5/5\n",
      "144000/144000 [==============================] - 18s 126us/sample - loss: 0.3153 - accuracy: 0.8717 - val_loss: 0.3142 - val_accuracy: 0.8792\n",
      "Running for: MobileNet\n",
      "Train on 143998 samples, validate on 16000 samples\n",
      "Epoch 1/5\n",
      "143998/143998 [==============================] - 31s 215us/sample - loss: 7.6791 - accuracy: 0.5006 - val_loss: 7.7597 - val_accuracy: 0.4954\n",
      "Epoch 2/5\n",
      "143998/143998 [==============================] - 31s 214us/sample - loss: 7.6806 - accuracy: 0.5006 - val_loss: 7.7597 - val_accuracy: 0.4954\n",
      "Epoch 3/5\n",
      "143998/143998 [==============================] - 31s 214us/sample - loss: 7.6806 - accuracy: 0.5006 - val_loss: 7.7597 - val_accuracy: 0.4954\n",
      "Epoch 4/5\n",
      "143998/143998 [==============================] - 31s 214us/sample - loss: 7.6806 - accuracy: 0.5006 - val_loss: 7.7597 - val_accuracy: 0.4954\n",
      "Epoch 5/5\n",
      "143998/143998 [==============================] - 31s 214us/sample - loss: 7.6806 - accuracy: 0.5006 - val_loss: 7.7597 - val_accuracy: 0.4954\n",
      "Running for: MobileNetV2\n",
      "Train on 143998 samples, validate on 16000 samples\n",
      "Epoch 1/5\n",
      "143998/143998 [==============================] - 19s 135us/sample - loss: 7.6960 - accuracy: 0.4993 - val_loss: 7.7049 - val_accuracy: 0.4990\n",
      "Epoch 2/5\n",
      "143998/143998 [==============================] - 19s 133us/sample - loss: 7.6984 - accuracy: 0.4994 - val_loss: 7.7049 - val_accuracy: 0.4990\n",
      "Epoch 3/5\n",
      "143998/143998 [==============================] - 19s 134us/sample - loss: 7.6984 - accuracy: 0.4994 - val_loss: 7.7049 - val_accuracy: 0.4990\n",
      "Epoch 4/5\n",
      "143998/143998 [==============================] - 19s 133us/sample - loss: 7.6984 - accuracy: 0.4994 - val_loss: 7.7049 - val_accuracy: 0.4990\n",
      "Epoch 5/5\n",
      "143998/143998 [==============================] - 19s 133us/sample - loss: 7.6984 - accuracy: 0.4994 - val_loss: 7.7049 - val_accuracy: 0.4990\n",
      "Running for: NASNetLarge\n",
      "Train on 143998 samples, validate on 16000 samples\n",
      "Epoch 1/5\n",
      "143998/143998 [==============================] - 31s 212us/sample - loss: 0.3600 - accuracy: 0.8469 - val_loss: 0.2926 - val_accuracy: 0.8874\n",
      "Epoch 2/5\n",
      "143998/143998 [==============================] - 30s 209us/sample - loss: 0.2797 - accuracy: 0.8926 - val_loss: 0.2820 - val_accuracy: 0.8920\n",
      "Epoch 3/5\n",
      "143998/143998 [==============================] - 30s 209us/sample - loss: 0.2540 - accuracy: 0.9052 - val_loss: 0.2555 - val_accuracy: 0.9050\n",
      "Epoch 4/5\n",
      "143998/143998 [==============================] - 30s 209us/sample - loss: 0.2372 - accuracy: 0.9130 - val_loss: 0.2466 - val_accuracy: 0.9094\n",
      "Epoch 5/5\n",
      "143998/143998 [==============================] - 30s 209us/sample - loss: 0.2262 - accuracy: 0.9180 - val_loss: 0.2466 - val_accuracy: 0.9106\n",
      "Running for: NASNetMobile\n",
      "Train on 143998 samples, validate on 16000 samples\n",
      "Epoch 1/5\n",
      "143998/143998 [==============================] - 19s 135us/sample - loss: 0.3782 - accuracy: 0.8374 - val_loss: 0.3443 - val_accuracy: 0.8636\n",
      "Epoch 2/5\n",
      "143998/143998 [==============================] - 19s 134us/sample - loss: 0.2953 - accuracy: 0.8847 - val_loss: 0.2802 - val_accuracy: 0.8939\n",
      "Epoch 3/5\n",
      "143998/143998 [==============================] - 19s 133us/sample - loss: 0.2642 - accuracy: 0.9001 - val_loss: 0.2572 - val_accuracy: 0.9076\n",
      "Epoch 4/5\n",
      "143998/143998 [==============================] - 19s 135us/sample - loss: 0.2459 - accuracy: 0.9092 - val_loss: 0.2601 - val_accuracy: 0.9086\n",
      "Epoch 5/5\n",
      "143998/143998 [==============================] - 19s 134us/sample - loss: 0.2350 - accuracy: 0.9138 - val_loss: 0.2407 - val_accuracy: 0.9143\n",
      "Running for: ResNet50\n",
      "Train on 143998 samples, validate on 16000 samples\n",
      "Epoch 1/5\n",
      "143998/143998 [==============================] - 51s 357us/sample - loss: 0.6962 - accuracy: 0.4989 - val_loss: 0.6933 - val_accuracy: 0.4923\n",
      "Epoch 2/5\n",
      "143998/143998 [==============================] - 51s 358us/sample - loss: 0.6932 - accuracy: 0.5009 - val_loss: 0.6932 - val_accuracy: 0.4923\n",
      "Epoch 3/5\n",
      "143998/143998 [==============================] - 51s 354us/sample - loss: 0.6932 - accuracy: 0.4989 - val_loss: 0.6933 - val_accuracy: 0.4923\n",
      "Epoch 4/5\n",
      "143998/143998 [==============================] - 51s 356us/sample - loss: 0.6932 - accuracy: 0.4989 - val_loss: 0.6933 - val_accuracy: 0.4923\n"
     ]
    },
    {
     "name": "stdout",
     "output_type": "stream",
     "text": [
      "Epoch 5/5\n",
      "143998/143998 [==============================] - 51s 354us/sample - loss: 0.6932 - accuracy: 0.4986 - val_loss: 0.6931 - val_accuracy: 0.5077\n",
      "Running for: VGG16\n",
      "Train on 143998 samples, validate on 16000 samples\n",
      "Epoch 1/5\n",
      "143998/143998 [==============================] - 19s 134us/sample - loss: 0.3112 - accuracy: 0.8736 - val_loss: 0.2548 - val_accuracy: 0.9058\n",
      "Epoch 2/5\n",
      "143998/143998 [==============================] - 19s 132us/sample - loss: 0.2723 - accuracy: 0.8959 - val_loss: 0.2610 - val_accuracy: 0.8992\n",
      "Epoch 3/5\n",
      "143998/143998 [==============================] - 19s 132us/sample - loss: 0.2630 - accuracy: 0.8998 - val_loss: 0.2603 - val_accuracy: 0.8991\n",
      "Epoch 4/5\n",
      "143998/143998 [==============================] - 19s 132us/sample - loss: 0.2590 - accuracy: 0.9023 - val_loss: 0.2609 - val_accuracy: 0.8982\n",
      "Epoch 5/5\n",
      "143998/143998 [==============================] - 19s 132us/sample - loss: 0.2531 - accuracy: 0.9052 - val_loss: 0.2485 - val_accuracy: 0.9066\n",
      "Running for: VGG19\n",
      "Train on 143998 samples, validate on 16000 samples\n",
      "Epoch 1/5\n",
      "143998/143998 [==============================] - 20s 139us/sample - loss: 0.3759 - accuracy: 0.8396 - val_loss: 0.3823 - val_accuracy: 0.8253\n",
      "Epoch 2/5\n",
      "143998/143998 [==============================] - 20s 137us/sample - loss: 0.3271 - accuracy: 0.8682 - val_loss: 0.3129 - val_accuracy: 0.8823\n",
      "Epoch 3/5\n",
      "143998/143998 [==============================] - 20s 137us/sample - loss: 0.3134 - accuracy: 0.8756 - val_loss: 0.3127 - val_accuracy: 0.8766\n",
      "Epoch 4/5\n",
      "143998/143998 [==============================] - 20s 136us/sample - loss: 0.3053 - accuracy: 0.8801 - val_loss: 0.3187 - val_accuracy: 0.8706\n",
      "Epoch 5/5\n",
      "143998/143998 [==============================] - 20s 136us/sample - loss: 0.2951 - accuracy: 0.8853 - val_loss: 0.2732 - val_accuracy: 0.8962\n",
      "Running for: Xception\n",
      "Train on 143998 samples, validate on 16000 samples\n",
      "Epoch 1/5\n",
      "143998/143998 [==============================] - 40s 280us/sample - loss: 7.6697 - accuracy: 0.5012 - val_loss: 7.8270 - val_accuracy: 0.4911\n",
      "Epoch 2/5\n",
      "143998/143998 [==============================] - 40s 277us/sample - loss: 7.6707 - accuracy: 0.5012 - val_loss: 7.8270 - val_accuracy: 0.4911\n",
      "Epoch 3/5\n",
      "143998/143998 [==============================] - 40s 278us/sample - loss: 7.6707 - accuracy: 0.5012 - val_loss: 7.8270 - val_accuracy: 0.4911\n",
      "Epoch 4/5\n",
      "143998/143998 [==============================] - 40s 280us/sample - loss: 7.6707 - accuracy: 0.5012 - val_loss: 7.8270 - val_accuracy: 0.4911\n",
      "Epoch 5/5\n",
      "143998/143998 [==============================] - 40s 280us/sample - loss: 7.6707 - accuracy: 0.5012 - val_loss: 7.8270 - val_accuracy: 0.4911\n"
     ]
    },
    {
     "data": {
      "text/plain": [
       "<Figure size 864x288 with 0 Axes>"
      ]
     },
     "metadata": {},
     "output_type": "display_data"
    },
    {
     "data": {
      "text/plain": [
       "<Figure size 864x288 with 0 Axes>"
      ]
     },
     "metadata": {},
     "output_type": "display_data"
    },
    {
     "data": {
      "text/plain": [
       "<Figure size 864x288 with 0 Axes>"
      ]
     },
     "metadata": {},
     "output_type": "display_data"
    },
    {
     "data": {
      "text/plain": [
       "<Figure size 864x288 with 0 Axes>"
      ]
     },
     "metadata": {},
     "output_type": "display_data"
    },
    {
     "data": {
      "text/plain": [
       "<Figure size 864x288 with 0 Axes>"
      ]
     },
     "metadata": {},
     "output_type": "display_data"
    },
    {
     "data": {
      "text/plain": [
       "<Figure size 864x288 with 0 Axes>"
      ]
     },
     "metadata": {},
     "output_type": "display_data"
    },
    {
     "data": {
      "text/plain": [
       "<Figure size 864x288 with 0 Axes>"
      ]
     },
     "metadata": {},
     "output_type": "display_data"
    },
    {
     "data": {
      "text/plain": [
       "<Figure size 864x288 with 0 Axes>"
      ]
     },
     "metadata": {},
     "output_type": "display_data"
    },
    {
     "data": {
      "text/plain": [
       "<Figure size 864x288 with 0 Axes>"
      ]
     },
     "metadata": {},
     "output_type": "display_data"
    },
    {
     "data": {
      "text/plain": [
       "<Figure size 864x288 with 0 Axes>"
      ]
     },
     "metadata": {},
     "output_type": "display_data"
    },
    {
     "data": {
      "text/plain": [
       "<Figure size 864x288 with 0 Axes>"
      ]
     },
     "metadata": {},
     "output_type": "display_data"
    },
    {
     "data": {
      "text/plain": [
       "<Figure size 864x288 with 0 Axes>"
      ]
     },
     "metadata": {},
     "output_type": "display_data"
    },
    {
     "data": {
      "text/plain": [
       "<Figure size 864x288 with 0 Axes>"
      ]
     },
     "metadata": {},
     "output_type": "display_data"
    }
   ],
   "source": [
    "# Set up and train a network for each of the pretrained features available \n",
    "# and output histograms of correct vs incorrect classifications\n",
    "for net, depth in pretrained_models.items():\n",
    "    print(\"Running for:\", net)\n",
    "    \n",
    "    # Load features\n",
    "    if depth is None:\n",
    "        depth = \"full\"\n",
    "    features_filename = net + \"_d\" + str(depth) + \"_\" + str(images.shape[0]) + \".npy\"\n",
    "    pretrained_features = load_feature_representation(features_filename)\n",
    "    model = Sequential()\n",
    "    model.add(Dense(512, input_shape=pretrained_features.shape[1:]))\n",
    "    model.add(Activation('relu'))\n",
    "    model.add(Dense(512))\n",
    "    model.add(Activation('relu'))\n",
    "    model.add(Dense(2, activation='softmax'))\n",
    "\n",
    "    model.compile(optimizer='adam',\n",
    "                  loss='binary_crossentropy',\n",
    "                  metrics=['accuracy'])\n",
    "    \n",
    "    # Remove nan values from pretrained_features (and remove labels which produces them)\n",
    "    nan_indices = []\n",
    "    for i in range(pretrained_features.shape[0]):\n",
    "        if np.isnan(pretrained_features[i,:]).any():\n",
    "            nan_indices.append(i)\n",
    "    pretrained_features = np.delete(pretrained_features, nan_indices, axis=0)\n",
    "    tmp_labels = np.delete(labels, nan_indices, axis=0)\n",
    "    tmp_positions = np.delete(positions, nan_indices, axis=0)\n",
    "\n",
    "    labels_positions = np.concatenate((tmp_labels, tmp_positions), axis=1)\n",
    "\n",
    "    # Split the data into training and test sets\n",
    "    x_train, x_test, y_train, y_test = train_test_split(pretrained_features, labels_positions, test_size = 0.2)    \n",
    "\n",
    "    test_positions = y_test[:, 2:]\n",
    "    train_positions = y_train[:, 2:]\n",
    "    y_test = y_test[:, :2]\n",
    "    y_train = y_train[:, :2]  \n",
    "    # Train the model\n",
    "    history = model.fit(\n",
    "        x_train, \n",
    "        y_train, \n",
    "        epochs=5, \n",
    "        batch_size=32,\n",
    "        validation_split=0.1)\n",
    "    \n",
    "    tmp_predicted = model.predict(x_test)\n",
    "    tmp_results = tmp_predicted.argmax(axis=-1)\n",
    "    double_events = double_event_distance(tmp_results, test_positions)\n",
    "    \n",
    "    # double_events contain (predicted_class, distance between event origins)\n",
    "    # All the events are double events, so if predicted class is 0, the predicted\n",
    "    # class is wrong.\n",
    "\n",
    "    correct = np.where(double_events[:,0] == 1)\n",
    "    wrong = np.where(double_events[:,0] == 0)\n",
    "\n",
    "    mean_correct = np.mean(double_events[correct][:,1])\n",
    "    mean_wrong = np.mean(double_events[wrong][:,1])\n",
    "    mean_all = np.mean(double_events[:,1])\n",
    "\n",
    "    # Ratio of correctly classified double events with a distance between\n",
    "    # events < 3mm\n",
    "    close_events = np.where(double_events[:,1] < 3.0)\n",
    "    ratio_close = np.count_nonzero(double_events[close_events][:,0])/len(double_events[close_events][:,0])\n",
    "\n",
    "\n",
    "\n",
    "\n",
    "    del(tmp_predicted)\n",
    "    del(tmp_results)\n",
    "    # Output\n",
    "\n",
    "    # Histograms\n",
    "    fig, ax = plt.subplots(1, 2, sharex='col', sharey='row', figsize=(12,4))\n",
    "    ax[0].hist(double_events[:,1], bins=50)\n",
    "    ax[0].set_title(\"Distances between all double events\")\n",
    "    ax[0].text(0, 880, r'$\\mu$ = {:.2f} mm'.format(mean_all))\n",
    "    ax[1].hist(double_events[correct][:,1], bins=50, alpha=0.5, label=\"correct\")\n",
    "    ax[1].hist(double_events[wrong][:,1], bins=50, alpha=0.5, label=\"wrong\")\n",
    "    ax[1].set_title(\"Distances between classified double events\")\n",
    "    ax[1].legend()\n",
    "    ax[1].text(0, 880, r'$\\mu$ correct = {:.2f} mm'.format(mean_correct))\n",
    "    ax[1].text(0, 820, r'$\\mu$ wrong = {:.2f} mm'.format(mean_wrong))\n",
    "    ax[1].text(0, 760, r'ratio correct < 3mm = {:.2f}'.format(ratio_close))\n",
    "    figure_name = net + \"_d\" + str(depth) + \"_\" + str(images.shape[0]) + \"_distance.png\"\n",
    "    fig.savefig(figure_name, format=\"png\")\n",
    "    fig.clf()\n",
    "\n"
   ]
  }
 ],
 "metadata": {
  "kernelspec": {
   "display_name": "pretrained_venv",
   "language": "python",
   "name": "pretrained_venv"
  },
  "language_info": {
   "codemirror_mode": {
    "name": "ipython",
    "version": 3
   },
   "file_extension": ".py",
   "mimetype": "text/x-python",
   "name": "python",
   "nbconvert_exporter": "python",
   "pygments_lexer": "ipython3",
   "version": "3.6.8"
  }
 },
 "nbformat": 4,
 "nbformat_minor": 2
}
