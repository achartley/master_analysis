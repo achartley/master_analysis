{
 "cells": [
  {
   "cell_type": "markdown",
   "metadata": {},
   "source": [
    "Analysis of hyperparameter searches"
   ]
  },
  {
   "cell_type": "code",
   "execution_count": 11,
   "metadata": {},
   "outputs": [],
   "source": [
    "from master_scripts.data_functions import get_git_root\n",
    "import json\n",
    "import pandas"
   ]
  },
  {
   "cell_type": "code",
   "execution_count": 20,
   "metadata": {},
   "outputs": [],
   "source": [
    "def load_experiment(e_id):\n",
    "    repo_root = get_git_root()\n",
    "    e_path = repo_root + \"experiments/\"\n",
    "    with open(e_path + e_id + \".json\", \"r\") as fp:\n",
    "        e = json.load(fp)\n",
    "    return e\n",
    "\n",
    "def load_hparam_search(name):\n",
    "    \"\"\" Reads scsv-formatted hparam search file spec to pandas DF\n",
    "    \"\"\"\n",
    "    repo_root = get_git_root()\n",
    "    hpath = repo_root + \"experiments/\"\n",
    "    df = pandas.read_csv(hpath + name, sep=';')\n",
    "    return df"
   ]
  },
  {
   "cell_type": "code",
   "execution_count": 8,
   "metadata": {},
   "outputs": [],
   "source": [
    "test = load_experiment(\"53e267bb150f\")"
   ]
  },
  {
   "cell_type": "code",
   "execution_count": 21,
   "metadata": {},
   "outputs": [],
   "source": [
    "df = load_hparam_search(\"architecture_search.scsv\")"
   ]
  },
  {
   "cell_type": "code",
   "execution_count": 22,
   "metadata": {},
   "outputs": [
    {
     "data": {
      "text/html": [
       "<div>\n",
       "<style scoped>\n",
       "    .dataframe tbody tr th:only-of-type {\n",
       "        vertical-align: middle;\n",
       "    }\n",
       "\n",
       "    .dataframe tbody tr th {\n",
       "        vertical-align: top;\n",
       "    }\n",
       "\n",
       "    .dataframe thead th {\n",
       "        text-align: right;\n",
       "    }\n",
       "</style>\n",
       "<table border=\"1\" class=\"dataframe\">\n",
       "  <thead>\n",
       "    <tr style=\"text-align: right;\">\n",
       "      <th></th>\n",
       "      <th>id</th>\n",
       "      <th>filters</th>\n",
       "      <th>kernel_size</th>\n",
       "      <th>dense_size</th>\n",
       "    </tr>\n",
       "  </thead>\n",
       "  <tbody>\n",
       "    <tr>\n",
       "      <th>0</th>\n",
       "      <td>53e267bb150f</td>\n",
       "      <td>4</td>\n",
       "      <td>(3, 3)</td>\n",
       "      <td>32</td>\n",
       "    </tr>\n",
       "    <tr>\n",
       "      <th>1</th>\n",
       "      <td>0e52e327b0d5</td>\n",
       "      <td>4</td>\n",
       "      <td>(3, 3)</td>\n",
       "      <td>64</td>\n",
       "    </tr>\n",
       "    <tr>\n",
       "      <th>2</th>\n",
       "      <td>3fe459e5b200</td>\n",
       "      <td>4</td>\n",
       "      <td>(3, 3)</td>\n",
       "      <td>128</td>\n",
       "    </tr>\n",
       "    <tr>\n",
       "      <th>3</th>\n",
       "      <td>2e5e1e2a7809</td>\n",
       "      <td>4</td>\n",
       "      <td>(3, 3)</td>\n",
       "      <td>256</td>\n",
       "    </tr>\n",
       "    <tr>\n",
       "      <th>4</th>\n",
       "      <td>21f0e7a8fb10</td>\n",
       "      <td>4</td>\n",
       "      <td>(5, 5)</td>\n",
       "      <td>32</td>\n",
       "    </tr>\n",
       "    <tr>\n",
       "      <th>...</th>\n",
       "      <td>...</td>\n",
       "      <td>...</td>\n",
       "      <td>...</td>\n",
       "      <td>...</td>\n",
       "    </tr>\n",
       "    <tr>\n",
       "      <th>75</th>\n",
       "      <td>3e12a1e318cd</td>\n",
       "      <td>64</td>\n",
       "      <td>(7, 7)</td>\n",
       "      <td>256</td>\n",
       "    </tr>\n",
       "    <tr>\n",
       "      <th>76</th>\n",
       "      <td>354c8adda0a8</td>\n",
       "      <td>64</td>\n",
       "      <td>(9, 9)</td>\n",
       "      <td>32</td>\n",
       "    </tr>\n",
       "    <tr>\n",
       "      <th>77</th>\n",
       "      <td>9a820dac9216</td>\n",
       "      <td>64</td>\n",
       "      <td>(9, 9)</td>\n",
       "      <td>64</td>\n",
       "    </tr>\n",
       "    <tr>\n",
       "      <th>78</th>\n",
       "      <td>45580d76242c</td>\n",
       "      <td>64</td>\n",
       "      <td>(9, 9)</td>\n",
       "      <td>128</td>\n",
       "    </tr>\n",
       "    <tr>\n",
       "      <th>79</th>\n",
       "      <td>a656a51945a8</td>\n",
       "      <td>64</td>\n",
       "      <td>(9, 9)</td>\n",
       "      <td>256</td>\n",
       "    </tr>\n",
       "  </tbody>\n",
       "</table>\n",
       "<p>80 rows × 4 columns</p>\n",
       "</div>"
      ],
      "text/plain": [
       "              id  filters kernel_size  dense_size\n",
       "0   53e267bb150f        4      (3, 3)          32\n",
       "1   0e52e327b0d5        4      (3, 3)          64\n",
       "2   3fe459e5b200        4      (3, 3)         128\n",
       "3   2e5e1e2a7809        4      (3, 3)         256\n",
       "4   21f0e7a8fb10        4      (5, 5)          32\n",
       "..           ...      ...         ...         ...\n",
       "75  3e12a1e318cd       64      (7, 7)         256\n",
       "76  354c8adda0a8       64      (9, 9)          32\n",
       "77  9a820dac9216       64      (9, 9)          64\n",
       "78  45580d76242c       64      (9, 9)         128\n",
       "79  a656a51945a8       64      (9, 9)         256\n",
       "\n",
       "[80 rows x 4 columns]"
      ]
     },
     "execution_count": 22,
     "metadata": {},
     "output_type": "execute_result"
    }
   ],
   "source": [
    "df"
   ]
  }
 ],
 "metadata": {
  "kernelspec": {
   "display_name": "Python 3",
   "language": "python",
   "name": "python3"
  },
  "language_info": {
   "codemirror_mode": {
    "name": "ipython",
    "version": 3
   },
   "file_extension": ".py",
   "mimetype": "text/x-python",
   "name": "python",
   "nbconvert_exporter": "python",
   "pygments_lexer": "ipython3",
   "version": "3.8.3"
  }
 },
 "nbformat": 4,
 "nbformat_minor": 4
}
