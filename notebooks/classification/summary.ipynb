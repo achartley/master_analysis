{
 "cells": [
  {
   "cell_type": "markdown",
   "metadata": {},
   "source": [
    "# Classification of Electron Events\n",
    "For this part of the project, the goal is to separate eventes in the dataset into two categories, 'single' and 'double' electron events. Mainly two paths have been taken in order to do this so far. One using well-known network architectures pretrained on the [ImageNet](http://www.image-net.org/) database. The other using a network architecture developed in an ML-project at MSU, that we train from scratch ([MSU ML-Project, LaBollita](https://github.com/harrisonlabollita/MSU-Machine-Learning-Project)). In both cases the models are deep convolutional neural networks."
   ]
  },
  {
   "cell_type": "markdown",
   "metadata": {
    "hide_input": false
   },
   "source": [
    "## Classification Using Pretrained Models\n",
    "Pretrained networks have previously been found to perform fairly well on other data than they were trained on,\n",
    "such as data from the AT-TPC ([Kuchera et. al](https://arxiv.org/abs/1810.10350)). Because these models are trained on complex image data with a large amount of features, the idea is to use them as \"feature extractors\" on our own image data. Due to modern Python frameworks such as [TensorFlow](https://www.tensorflow.org/), [PyTorch](https://pytorch.org/), and [Keras](https://keras.io/), implementing and testing this approach is fairly straightforward, although not without challenges.\n",
    "\n",
    "We attempted classification with the following models, all pretrained on ImageNet:\n",
    "* [DenseNet121, DenseNet169, DensNet201](https://arxiv.org/abs/1608.06993)\n",
    "* [InceptionResNetV2](https://arxiv.org/abs/1602.07261)\n",
    "* [InceptionV3](http://arxiv.org/abs/1512.00567)\n",
    "* [MobileNet](https://arxiv.org/pdf/1704.04861.pdf)\n",
    "* [MobileNetV2](https://arxiv.org/abs/1801.04381)\n",
    "* [NASNetLarge, NASNetMobile](https://arxiv.org/abs/1707.07012)\n",
    "* [ResNet50](https://arxiv.org/abs/1512.03385)\n",
    "* [VGG16, VGG19](https://arxiv.org/abs/1409.1556)\n",
    "* [Xception](https://arxiv.org/abs/1610.02357)\n",
    "\n",
    "See https://keras.io/applications/ for info about implementation."
   ]
  }
 ],
 "metadata": {
  "hide_input": false,
  "kernelspec": {
   "display_name": "pretrained_venv",
   "language": "python",
   "name": "pretrained_venv"
  },
  "language_info": {
   "codemirror_mode": {
    "name": "ipython",
    "version": 3
   },
   "file_extension": ".py",
   "mimetype": "text/x-python",
   "name": "python",
   "nbconvert_exporter": "python",
   "pygments_lexer": "ipython3",
   "version": "3.7.6"
  },
  "latex_envs": {
   "LaTeX_envs_menu_present": true,
   "autoclose": false,
   "autocomplete": true,
   "bibliofile": "biblio.bib",
   "cite_by": "apalike",
   "current_citInitial": 1,
   "eqLabelWithNumbers": true,
   "eqNumInitial": 1,
   "hotkeys": {
    "equation": "Ctrl-E",
    "itemize": "Ctrl-I"
   },
   "labels_anchors": false,
   "latex_user_defs": false,
   "report_style_numbering": false,
   "user_envs_cfg": false
  },
  "toc": {
   "base_numbering": 1,
   "nav_menu": {
    "height": "318.003px",
    "width": "271.788px"
   },
   "number_sections": true,
   "sideBar": true,
   "skip_h1_title": false,
   "title_cell": "Table of Contents",
   "title_sidebar": "Contents",
   "toc_cell": false,
   "toc_position": {},
   "toc_section_display": true,
   "toc_window_display": false
  }
 },
 "nbformat": 4,
 "nbformat_minor": 2
}
