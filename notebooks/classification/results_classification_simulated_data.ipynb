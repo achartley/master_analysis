{
 "cells": [
  {
   "cell_type": "markdown",
   "metadata": {},
   "source": [
    "# Analysis of results from simulated data\n",
    "Deeper look into a model's performance on simulated data."
   ]
  },
  {
   "cell_type": "code",
   "execution_count": 159,
   "metadata": {},
   "outputs": [
    {
     "name": "stdout",
     "output_type": "stream",
     "text": [
      "The autoreload extension is already loaded. To reload it, use:\n",
      "  %reload_ext autoreload\n"
     ]
    }
   ],
   "source": [
    "# Imports\n",
    "import numpy as np\n",
    "import json\n",
    "import matplotlib.pyplot as plt\n",
    "import tensorflow as tf\n",
    "from sklearn.model_selection import train_test_split\n",
    "from master_scripts.data_functions import (load_experiment, get_git_root, separation_distance, energy_difference,\n",
    "                                           relative_energy, event_indices, normalize_image_data)\n",
    "from master_scripts.analysis_functions import (doubles_classification_stats)\n",
    "%load_ext autoreload\n",
    "%autoreload 2\n",
    "repo_root = get_git_root()"
   ]
  },
  {
   "cell_type": "markdown",
   "metadata": {},
   "source": [
    "## Data and experiment import\n",
    "Load the image data and split into training and validation sets. Since we specify the random seed, we can\n",
    "reproduce the exact same data the model was originally validated on to explore it."
   ]
  },
  {
   "cell_type": "code",
   "execution_count": null,
   "metadata": {},
   "outputs": [],
   "source": [
    "images = np.load(repo_root + \"data/simulated/images_full.npy\")\n",
    "positions = np.load(repo_root + \"data/simulated/positions_full.npy\")\n",
    "energies = np.load(repo_root + \"data/simulated/energies_full.npy\")\n",
    "labels = np.load(repo_root + \"data/simulated/labels_full.npy\")"
   ]
  },
  {
   "cell_type": "code",
   "execution_count": 160,
   "metadata": {},
   "outputs": [
    {
     "name": "stdout",
     "output_type": "stream",
     "text": [
      "==== Experiment metrics\n",
      "{\n",
      "  \"accuracy_score\": 0.9782421052631579,\n",
      "  \"confusion_matrix\": {\n",
      "    \"TN\": 236943,\n",
      "    \"FP\": 589,\n",
      "    \"FN\": 9746,\n",
      "    \"TP\": 227722\n",
      "  },\n",
      "  \"f1_score\": 0.9778113654759016,\n",
      "  \"matthews_corrcoef\": 0.9571957148197215,\n",
      "  \"roc_auc_score\": 0.9924280110669701\n",
      "}\n",
      "====\n"
     ]
    }
   ],
   "source": [
    "# Load experiment and associated model (must be a saved model instance complete with weights)\n",
    "experiment_id = \"4557cfeefc83\"\n",
    "experiment = load_experiment(experiment_id)\n",
    "model = tf.keras.models.load_model(repo_root + \"models/\" + experiment_id + \".h5\")\n",
    "# Print experiment metrics\n",
    "print(\"==== Experiment metrics\")\n",
    "print(json.dumps(experiment[\"metrics\"], indent=2))\n",
    "print(\"====\")"
   ]
  },
  {
   "cell_type": "markdown",
   "metadata": {},
   "source": [
    "## Predict on validation data"
   ]
  },
  {
   "cell_type": "code",
   "execution_count": 161,
   "metadata": {},
   "outputs": [],
   "source": [
    "x_idx = np.arange(len(images))\n",
    "train_idx, val_idx = train_test_split(\n",
    "    x_idx,\n",
    "    random_state=experiment['experiment_config']['random_seed']\n",
    ")   \n",
    "# Predict on the validation set\n",
    "prediction = model.predict(normalize_image_data(images[val_idx]))\n",
    "val_pred = (prediction > 0.5).astype(int)"
   ]
  },
  {
   "cell_type": "markdown",
   "metadata": {},
   "source": [
    "# Descriptive statistics on validation data"
   ]
  },
  {
   "cell_type": "code",
   "execution_count": 162,
   "metadata": {},
   "outputs": [],
   "source": [
    "# Load dataframe\n",
    "dstats = doubles_classification_stats(positions[val_idx], energies[val_idx], val_pred)"
   ]
  },
  {
   "cell_type": "code",
   "execution_count": 163,
   "metadata": {},
   "outputs": [
    {
     "data": {
      "text/html": [
       "<div>\n",
       "<style scoped>\n",
       "    .dataframe tbody tr th:only-of-type {\n",
       "        vertical-align: middle;\n",
       "    }\n",
       "\n",
       "    .dataframe tbody tr th {\n",
       "        vertical-align: top;\n",
       "    }\n",
       "\n",
       "    .dataframe thead tr th {\n",
       "        text-align: left;\n",
       "    }\n",
       "\n",
       "    .dataframe thead tr:last-of-type th {\n",
       "        text-align: right;\n",
       "    }\n",
       "</style>\n",
       "<table border=\"1\" class=\"dataframe\">\n",
       "  <thead>\n",
       "    <tr>\n",
       "      <th></th>\n",
       "      <th></th>\n",
       "      <th colspan=\"6\" halign=\"left\">separation distance</th>\n",
       "      <th colspan=\"6\" halign=\"left\">relative energy</th>\n",
       "      <th colspan=\"6\" halign=\"left\">energy difference</th>\n",
       "    </tr>\n",
       "    <tr>\n",
       "      <th></th>\n",
       "      <th></th>\n",
       "      <th>count</th>\n",
       "      <th>mean</th>\n",
       "      <th>std</th>\n",
       "      <th>min</th>\n",
       "      <th>50%</th>\n",
       "      <th>max</th>\n",
       "      <th>count</th>\n",
       "      <th>mean</th>\n",
       "      <th>std</th>\n",
       "      <th>min</th>\n",
       "      <th>50%</th>\n",
       "      <th>max</th>\n",
       "      <th>count</th>\n",
       "      <th>mean</th>\n",
       "      <th>std</th>\n",
       "      <th>min</th>\n",
       "      <th>50%</th>\n",
       "      <th>max</th>\n",
       "    </tr>\n",
       "    <tr>\n",
       "      <th>close</th>\n",
       "      <th>classification</th>\n",
       "      <th></th>\n",
       "      <th></th>\n",
       "      <th></th>\n",
       "      <th></th>\n",
       "      <th></th>\n",
       "      <th></th>\n",
       "      <th></th>\n",
       "      <th></th>\n",
       "      <th></th>\n",
       "      <th></th>\n",
       "      <th></th>\n",
       "      <th></th>\n",
       "      <th></th>\n",
       "      <th></th>\n",
       "      <th></th>\n",
       "      <th></th>\n",
       "      <th></th>\n",
       "      <th></th>\n",
       "    </tr>\n",
       "  </thead>\n",
       "  <tbody>\n",
       "    <tr>\n",
       "      <th rowspan=\"2\" valign=\"top\">False</th>\n",
       "      <th>0</th>\n",
       "      <td>7638.000</td>\n",
       "      <td>4.498</td>\n",
       "      <td>3.525</td>\n",
       "      <td>1.000</td>\n",
       "      <td>3.201</td>\n",
       "      <td>18.808</td>\n",
       "      <td>7638.000</td>\n",
       "      <td>134.275</td>\n",
       "      <td>2782.416</td>\n",
       "      <td>0.000</td>\n",
       "      <td>1.055</td>\n",
       "      <td>228094.700</td>\n",
       "      <td>7638.000</td>\n",
       "      <td>0.547</td>\n",
       "      <td>0.268</td>\n",
       "      <td>0.000</td>\n",
       "      <td>0.574</td>\n",
       "      <td>0.996</td>\n",
       "    </tr>\n",
       "    <tr>\n",
       "      <th>1</th>\n",
       "      <td>226556.000</td>\n",
       "      <td>7.863</td>\n",
       "      <td>3.524</td>\n",
       "      <td>1.000</td>\n",
       "      <td>7.695</td>\n",
       "      <td>19.713</td>\n",
       "      <td>226556.000</td>\n",
       "      <td>2.343</td>\n",
       "      <td>5.811</td>\n",
       "      <td>0.005</td>\n",
       "      <td>1.000</td>\n",
       "      <td>305.588</td>\n",
       "      <td>226556.000</td>\n",
       "      <td>0.326</td>\n",
       "      <td>0.231</td>\n",
       "      <td>0.000</td>\n",
       "      <td>0.286</td>\n",
       "      <td>0.991</td>\n",
       "    </tr>\n",
       "    <tr>\n",
       "      <th rowspan=\"2\" valign=\"top\">True</th>\n",
       "      <th>0</th>\n",
       "      <td>2108.000</td>\n",
       "      <td>0.654</td>\n",
       "      <td>0.237</td>\n",
       "      <td>0.021</td>\n",
       "      <td>0.686</td>\n",
       "      <td>1.000</td>\n",
       "      <td>2108.000</td>\n",
       "      <td>6.511</td>\n",
       "      <td>49.962</td>\n",
       "      <td>0.001</td>\n",
       "      <td>0.990</td>\n",
       "      <td>1449.956</td>\n",
       "      <td>2108.000</td>\n",
       "      <td>0.368</td>\n",
       "      <td>0.247</td>\n",
       "      <td>0.000</td>\n",
       "      <td>0.334</td>\n",
       "      <td>0.992</td>\n",
       "    </tr>\n",
       "    <tr>\n",
       "      <th>1</th>\n",
       "      <td>1166.000</td>\n",
       "      <td>0.684</td>\n",
       "      <td>0.231</td>\n",
       "      <td>0.021</td>\n",
       "      <td>0.717</td>\n",
       "      <td>1.000</td>\n",
       "      <td>1166.000</td>\n",
       "      <td>1.251</td>\n",
       "      <td>2.339</td>\n",
       "      <td>0.128</td>\n",
       "      <td>0.996</td>\n",
       "      <td>76.363</td>\n",
       "      <td>1166.000</td>\n",
       "      <td>0.288</td>\n",
       "      <td>0.201</td>\n",
       "      <td>0.000</td>\n",
       "      <td>0.255</td>\n",
       "      <td>0.869</td>\n",
       "    </tr>\n",
       "  </tbody>\n",
       "</table>\n",
       "</div>"
      ],
      "text/plain": [
       "                     separation distance                                      \\\n",
       "                                   count   mean    std    min    50%     max   \n",
       "close classification                                                           \n",
       "False 0                         7638.000  4.498  3.525  1.000  3.201  18.808   \n",
       "      1                       226556.000  7.863  3.524  1.000  7.695  19.713   \n",
       "True  0                         2108.000  0.654  0.237  0.021  0.686   1.000   \n",
       "      1                         1166.000  0.684  0.231  0.021  0.717   1.000   \n",
       "\n",
       "                     relative energy                                   \\\n",
       "                               count     mean       std    min    50%   \n",
       "close classification                                                    \n",
       "False 0                     7638.000  134.275  2782.416  0.000  1.055   \n",
       "      1                   226556.000    2.343     5.811  0.005  1.000   \n",
       "True  0                     2108.000    6.511    49.962  0.001  0.990   \n",
       "      1                     1166.000    1.251     2.339  0.128  0.996   \n",
       "\n",
       "                                 energy difference                       \\\n",
       "                             max             count   mean    std    min   \n",
       "close classification                                                      \n",
       "False 0               228094.700          7638.000  0.547  0.268  0.000   \n",
       "      1                  305.588        226556.000  0.326  0.231  0.000   \n",
       "True  0                 1449.956          2108.000  0.368  0.247  0.000   \n",
       "      1                   76.363          1166.000  0.288  0.201  0.000   \n",
       "\n",
       "                                    \n",
       "                        50%    max  \n",
       "close classification                \n",
       "False 0               0.574  0.996  \n",
       "      1               0.286  0.991  \n",
       "True  0               0.334  0.992  \n",
       "      1               0.255  0.869  "
      ]
     },
     "execution_count": 163,
     "metadata": {},
     "output_type": "execute_result"
    }
   ],
   "source": [
    "# Group by close events, then by which class the event was classified as\n",
    "group = dstats.groupby([\"close\", \"classification\"])\n",
    "# Get statistics for the relevant columns. Percentiles of 0.5 is interpreted as the median value\n",
    "group.describe(include=[\"float\"], percentiles=[0.5]).applymap('{:.3f}'.format)"
   ]
  },
  {
   "cell_type": "markdown",
   "metadata": {},
   "source": [
    "# Distributions and scatterplot"
   ]
  },
  {
   "cell_type": "markdown",
   "metadata": {},
   "source": [
    "### Comparing correct and misclassified double events"
   ]
  },
  {
   "cell_type": "code",
   "execution_count": null,
   "metadata": {},
   "outputs": [],
   "source": [
    "dist_bins = np.arange(0, np.amax(rel_distance_test), 0.5)\n",
    "energy_bins = np.arange(0, np.amax(energy_diff_test), 0.02)\n",
    "fig, ax = plt.subplots(1, 2, figsize=(12,4))\n",
    "ax[0].hist(rel_distance_test[double_indices][correct_doubles], bins=dist_bins, alpha=0.5, label=\"correct\")\n",
    "ax[0].hist(rel_distance_test[double_indices][wrong_doubles], bins=dist_bins, alpha=0.5, label=\"wrong\")\n",
    "ax[0].set_title(\"Distribution of separation distances\\n for classified double events\")\n",
    "ax[0].set_xlabel(\"Separation distance [mm]\")\n",
    "ax[0].set_ylabel(\"Number of events\")\n",
    "ax[0].legend()\n",
    "ax[1].hist(rel_energy_test[double_indices][correct_doubles], bins=energy_bins, alpha=0.5, label=\"correct\")\n",
    "ax[1].hist(rel_energy_test[double_indices][wrong_doubles], bins=energy_bins, alpha=0.5, label=\"wrong\")\n",
    "ax[1].set_title(\"Distribution of relative energy \\n for classified double events\")\n",
    "ax[1].set_xlabel(\"Relative energy\")\n",
    "ax[1].set_ylabel(\"Number of events\")\n",
    "ax[1].legend()\n",
    "fig.savefig(FIGURE_PATH+net+\"_relative_test_compare.pdf\", format=\"pdf\")"
   ]
  },
  {
   "cell_type": "code",
   "execution_count": null,
   "metadata": {},
   "outputs": [],
   "source": [
    "dist_bins = np.arange(0, np.amax(rel_distance_test), 0.5)\n",
    "energy_bins = np.arange(0, 10, 0.1)\n",
    "fig, ax = plt.subplots(1, 2, figsize=(12,4))\n",
    "#ax[0].hist(rel_distance_test[double_indices][correct_doubles], bins=dist_bins, alpha=0.5, label=\"correct\")\n",
    "ax[0].hist(rel_distance_test[double_indices][wrong_doubles], bins=dist_bins, alpha=0.5, label=\"wrong\")\n",
    "ax[0].set_title(\"Distribution of Relative distances\\n for classified double events\")\n",
    "ax[0].set_xlabel(\"Relative distance [mm]\")\n",
    "ax[0].set_ylabel(\"Number of events\")\n",
    "ax[0].legend()\n",
    "#ax[1].hist(rel_energy_test[double_indices][correct_doubles], bins=energy_bins, alpha=0.5, label=\"correct\")\n",
    "#ax[1].hist(rel_energy_test[double_indices][wrong_doubles], bins=energy_bins, alpha=0.5, label=\"wrong\")\n",
    "ax[1].hist(rel_energy_test[double_indices][wrong_doubles], label=\"wrong\")\n",
    "ax[1].set_title(\"Distribution of relative energy \\n for classified double events\")\n",
    "ax[1].set_xlabel(\"Relative energy\")\n",
    "ax[1].set_ylabel(\"Number of events\")\n",
    "ax[1].legend()\n",
    "fig.savefig(FIGURE_PATH+net+\"_relative_test_compare.pdf\", format=\"pdf\")"
   ]
  },
  {
   "cell_type": "markdown",
   "metadata": {},
   "source": [
    "### Scatterplot relative distance vs. relative energy"
   ]
  },
  {
   "cell_type": "code",
   "execution_count": null,
   "metadata": {},
   "outputs": [],
   "source": [
    "plt.scatter(\n",
    "    rel_distance_test[double_indices][wrong_doubles], \n",
    "    rel_energy_test[double_indices][wrong_doubles],\n",
    "    marker='.',\n",
    "    )\n",
    "plt.title(\"Separation distance vs. relative energy for misclassified double events\")\n",
    "plt.xlabel(\"Separation distance [mm]\")\n",
    "plt.ylabel(\"Relative energy\")\n",
    "plt.show()"
   ]
  },
  {
   "cell_type": "markdown",
   "metadata": {},
   "source": [
    "# Distribution of position around highest intensity pixel\n",
    "In previous work data analysis showed that most event positions are within the highest intensity pixel,\n",
    "and all (verify!) events are within the two highest intensity pixels,\n",
    "It might be reasonable to look at how the predicted positions are distributed around the highest intensity\n",
    "pixel."
   ]
  },
  {
   "cell_type": "code",
   "execution_count": null,
   "metadata": {},
   "outputs": [],
   "source": [
    "imgs = images[single_indices].reshape(images[single_indices].shape[0],16,16)\n",
    "\n",
    "# get index of highest energy pixel\n",
    "print(np.unravel_index(np.argmax(imgs[0], axis=None), imgs[0].shape))\n",
    "fix, ax = plt.subplots()\n",
    "ax.imshow(imgs[0])\n",
    "ax.plot(0,0, 'rx')"
   ]
  },
  {
   "cell_type": "code",
   "execution_count": null,
   "metadata": {},
   "outputs": [],
   "source": [
    "config = {\n",
    "    \"DATA_PATH\": \"../../data/real/anodedata.txt\",              \n",
    "    \"MODEL_PATH\": \"../../data/output/models/\",                \n",
    "    \"CLASSIFIER\": \"Project-0.97.hdf5\",                      \n",
    "    \"SINGLE_ENERGY_MODEL\": \"single_energy_model_name.hdf5\",    \n",
    "    \"SINGLE_POSITION_MODEL\": \"single_position_model_name.hdf5\",\n",
    "    \"DOUBLE_ENERGY_MODEL\": \"double_energy_model_name.hdf5\",    \n",
    "    \"DOUBLE_POSITION_MODEL\": \"double_position_model_name.hdf5\" \n",
    "}\n",
    "\n",
    "data = import_real_data(config)\n",
    "print(data['image'].type)\n"
   ]
  }
 ],
 "metadata": {
  "hide_input": false,
  "kernelspec": {
   "display_name": "Python 3",
   "language": "python",
   "name": "python3"
  },
  "language_info": {
   "codemirror_mode": {
    "name": "ipython",
    "version": 3
   },
   "file_extension": ".py",
   "mimetype": "text/x-python",
   "name": "python",
   "nbconvert_exporter": "python",
   "pygments_lexer": "ipython3",
   "version": "3.8.2"
  },
  "latex_envs": {
   "LaTeX_envs_menu_present": true,
   "autoclose": false,
   "autocomplete": true,
   "bibliofile": "biblio.bib",
   "cite_by": "apalike",
   "current_citInitial": 1,
   "eqLabelWithNumbers": true,
   "eqNumInitial": 1,
   "hotkeys": {
    "equation": "Ctrl-E",
    "itemize": "Ctrl-I"
   },
   "labels_anchors": false,
   "latex_user_defs": false,
   "report_style_numbering": false,
   "user_envs_cfg": false
  },
  "toc": {
   "base_numbering": 1,
   "nav_menu": {},
   "number_sections": true,
   "sideBar": true,
   "skip_h1_title": false,
   "title_cell": "Table of Contents",
   "title_sidebar": "Contents",
   "toc_cell": false,
   "toc_position": {},
   "toc_section_display": true,
   "toc_window_display": false
  }
 },
 "nbformat": 4,
 "nbformat_minor": 4
}
