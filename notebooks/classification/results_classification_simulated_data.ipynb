{
 "cells": [
  {
   "cell_type": "markdown",
   "metadata": {},
   "source": [
    "# Analysis of results from simulated data\n",
    "Deeper look into a model's performance on simulated data."
   ]
  },
  {
   "cell_type": "code",
   "execution_count": 159,
   "metadata": {},
   "outputs": [
    {
     "name": "stdout",
     "output_type": "stream",
     "text": [
      "The autoreload extension is already loaded. To reload it, use:\n",
      "  %reload_ext autoreload\n"
     ]
    }
   ],
   "source": [
    "# Imports\n",
    "import numpy as np\n",
    "import json\n",
    "import matplotlib.pyplot as plt\n",
    "import tensorflow as tf\n",
    "from sklearn.model_selection import train_test_split\n",
    "from master_scripts.data_functions import (load_experiment, get_git_root, separation_distance, energy_difference,\n",
    "                                           relative_energy, event_indices, normalize_image_data)\n",
    "from master_scripts.analysis_functions import (doubles_classification_stats)\n",
    "%load_ext autoreload\n",
    "%autoreload 2\n",
    "repo_root = get_git_root()"
   ]
  },
  {
   "cell_type": "markdown",
   "metadata": {},
   "source": [
    "## Data and experiment import\n",
    "Load the image data and split into training and validation sets. Since we specify the random seed, we can\n",
    "reproduce the exact same data the model was originally validated on to explore it."
   ]
  },
  {
   "cell_type": "code",
   "execution_count": null,
   "metadata": {},
   "outputs": [],
   "source": [
    "images = np.load(repo_root + \"data/simulated/images_full.npy\")\n",
    "positions = np.load(repo_root + \"data/simulated/positions_full.npy\")\n",
    "energies = np.load(repo_root + \"data/simulated/energies_full.npy\")\n",
    "labels = np.load(repo_root + \"data/simulated/labels_full.npy\")"
   ]
  },
  {
   "cell_type": "code",
   "execution_count": 164,
   "metadata": {},
   "outputs": [
    {
     "name": "stdout",
     "output_type": "stream",
     "text": [
      "==== Experiment metrics\n",
      "{\n",
      "  \"accuracy_score\": 0.9832547368421053,\n",
      "  \"confusion_matrix\": {\n",
      "    \"TN\": 236703,\n",
      "    \"FP\": 829,\n",
      "    \"FN\": 7125,\n",
      "    \"TP\": 230343\n",
      "  },\n",
      "  \"f1_score\": 0.983027483782861,\n",
      "  \"matthews_corrcoef\": 0.966849143280241,\n",
      "  \"roc_auc_score\": 0.9930843227110178\n",
      "}\n",
      "====\n"
     ]
    }
   ],
   "source": [
    "# Load experiment and associated model (must be a saved model instance complete with weights)\n",
    "experiment_id = \"40350020681b\"\n",
    "experiment = load_experiment(experiment_id)\n",
    "model = tf.keras.models.load_model(repo_root + \"models/\" + experiment_id + \".h5\")\n",
    "# Print experiment metrics\n",
    "print(\"==== Experiment metrics\")\n",
    "print(json.dumps(experiment[\"metrics\"], indent=2))\n",
    "print(\"====\")"
   ]
  },
  {
   "cell_type": "markdown",
   "metadata": {},
   "source": [
    "## Predict on validation data"
   ]
  },
  {
   "cell_type": "code",
   "execution_count": 165,
   "metadata": {},
   "outputs": [],
   "source": [
    "x_idx = np.arange(len(images))\n",
    "train_idx, val_idx = train_test_split(\n",
    "    x_idx,\n",
    "    random_state=experiment['experiment_config']['random_seed']\n",
    ")   \n",
    "# Predict on the validation set\n",
    "prediction = model.predict(normalize_image_data(images[val_idx]))\n",
    "val_pred = (prediction > 0.5).astype(int)"
   ]
  },
  {
   "cell_type": "markdown",
   "metadata": {},
   "source": [
    "# Descriptive statistics on validation data"
   ]
  },
  {
   "cell_type": "code",
   "execution_count": 166,
   "metadata": {},
   "outputs": [],
   "source": [
    "# Load dataframe\n",
    "dstats = doubles_classification_stats(positions[val_idx], energies[val_idx], val_pred)"
   ]
  },
  {
   "cell_type": "code",
   "execution_count": 167,
   "metadata": {},
   "outputs": [
    {
     "data": {
      "text/html": [
       "<div>\n",
       "<style scoped>\n",
       "    .dataframe tbody tr th:only-of-type {\n",
       "        vertical-align: middle;\n",
       "    }\n",
       "\n",
       "    .dataframe tbody tr th {\n",
       "        vertical-align: top;\n",
       "    }\n",
       "\n",
       "    .dataframe thead tr th {\n",
       "        text-align: left;\n",
       "    }\n",
       "\n",
       "    .dataframe thead tr:last-of-type th {\n",
       "        text-align: right;\n",
       "    }\n",
       "</style>\n",
       "<table border=\"1\" class=\"dataframe\">\n",
       "  <thead>\n",
       "    <tr>\n",
       "      <th></th>\n",
       "      <th></th>\n",
       "      <th colspan=\"6\" halign=\"left\">separation distance</th>\n",
       "      <th colspan=\"6\" halign=\"left\">relative energy</th>\n",
       "      <th colspan=\"6\" halign=\"left\">energy difference</th>\n",
       "    </tr>\n",
       "    <tr>\n",
       "      <th></th>\n",
       "      <th></th>\n",
       "      <th>count</th>\n",
       "      <th>mean</th>\n",
       "      <th>std</th>\n",
       "      <th>min</th>\n",
       "      <th>50%</th>\n",
       "      <th>max</th>\n",
       "      <th>count</th>\n",
       "      <th>mean</th>\n",
       "      <th>std</th>\n",
       "      <th>min</th>\n",
       "      <th>50%</th>\n",
       "      <th>max</th>\n",
       "      <th>count</th>\n",
       "      <th>mean</th>\n",
       "      <th>std</th>\n",
       "      <th>min</th>\n",
       "      <th>50%</th>\n",
       "      <th>max</th>\n",
       "    </tr>\n",
       "    <tr>\n",
       "      <th>close</th>\n",
       "      <th>classification</th>\n",
       "      <th></th>\n",
       "      <th></th>\n",
       "      <th></th>\n",
       "      <th></th>\n",
       "      <th></th>\n",
       "      <th></th>\n",
       "      <th></th>\n",
       "      <th></th>\n",
       "      <th></th>\n",
       "      <th></th>\n",
       "      <th></th>\n",
       "      <th></th>\n",
       "      <th></th>\n",
       "      <th></th>\n",
       "      <th></th>\n",
       "      <th></th>\n",
       "      <th></th>\n",
       "      <th></th>\n",
       "    </tr>\n",
       "  </thead>\n",
       "  <tbody>\n",
       "    <tr>\n",
       "      <th rowspan=\"2\" valign=\"top\">False</th>\n",
       "      <th>0</th>\n",
       "      <td>5113.000</td>\n",
       "      <td>4.361</td>\n",
       "      <td>3.319</td>\n",
       "      <td>1.000</td>\n",
       "      <td>3.231</td>\n",
       "      <td>18.195</td>\n",
       "      <td>5113.000</td>\n",
       "      <td>190.696</td>\n",
       "      <td>3399.306</td>\n",
       "      <td>0.000</td>\n",
       "      <td>1.292</td>\n",
       "      <td>228094.700</td>\n",
       "      <td>5113.000</td>\n",
       "      <td>0.548</td>\n",
       "      <td>0.273</td>\n",
       "      <td>0.000</td>\n",
       "      <td>0.576</td>\n",
       "      <td>0.996</td>\n",
       "    </tr>\n",
       "    <tr>\n",
       "      <th>1</th>\n",
       "      <td>229081.000</td>\n",
       "      <td>7.829</td>\n",
       "      <td>3.543</td>\n",
       "      <td>1.000</td>\n",
       "      <td>7.667</td>\n",
       "      <td>19.713</td>\n",
       "      <td>229081.000</td>\n",
       "      <td>2.538</td>\n",
       "      <td>7.535</td>\n",
       "      <td>0.003</td>\n",
       "      <td>1.000</td>\n",
       "      <td>535.828</td>\n",
       "      <td>229081.000</td>\n",
       "      <td>0.328</td>\n",
       "      <td>0.232</td>\n",
       "      <td>0.000</td>\n",
       "      <td>0.289</td>\n",
       "      <td>0.993</td>\n",
       "    </tr>\n",
       "    <tr>\n",
       "      <th rowspan=\"2\" valign=\"top\">True</th>\n",
       "      <th>0</th>\n",
       "      <td>2012.000</td>\n",
       "      <td>0.646</td>\n",
       "      <td>0.235</td>\n",
       "      <td>0.021</td>\n",
       "      <td>0.676</td>\n",
       "      <td>1.000</td>\n",
       "      <td>2012.000</td>\n",
       "      <td>6.777</td>\n",
       "      <td>51.125</td>\n",
       "      <td>0.001</td>\n",
       "      <td>0.992</td>\n",
       "      <td>1449.956</td>\n",
       "      <td>2012.000</td>\n",
       "      <td>0.374</td>\n",
       "      <td>0.248</td>\n",
       "      <td>0.000</td>\n",
       "      <td>0.339</td>\n",
       "      <td>0.992</td>\n",
       "    </tr>\n",
       "    <tr>\n",
       "      <th>1</th>\n",
       "      <td>1262.000</td>\n",
       "      <td>0.695</td>\n",
       "      <td>0.233</td>\n",
       "      <td>0.021</td>\n",
       "      <td>0.737</td>\n",
       "      <td>1.000</td>\n",
       "      <td>1262.000</td>\n",
       "      <td>1.227</td>\n",
       "      <td>2.243</td>\n",
       "      <td>0.171</td>\n",
       "      <td>0.995</td>\n",
       "      <td>76.363</td>\n",
       "      <td>1262.000</td>\n",
       "      <td>0.284</td>\n",
       "      <td>0.200</td>\n",
       "      <td>0.000</td>\n",
       "      <td>0.250</td>\n",
       "      <td>0.829</td>\n",
       "    </tr>\n",
       "  </tbody>\n",
       "</table>\n",
       "</div>"
      ],
      "text/plain": [
       "                     separation distance                                      \\\n",
       "                                   count   mean    std    min    50%     max   \n",
       "close classification                                                           \n",
       "False 0                         5113.000  4.361  3.319  1.000  3.231  18.195   \n",
       "      1                       229081.000  7.829  3.543  1.000  7.667  19.713   \n",
       "True  0                         2012.000  0.646  0.235  0.021  0.676   1.000   \n",
       "      1                         1262.000  0.695  0.233  0.021  0.737   1.000   \n",
       "\n",
       "                     relative energy                                   \\\n",
       "                               count     mean       std    min    50%   \n",
       "close classification                                                    \n",
       "False 0                     5113.000  190.696  3399.306  0.000  1.292   \n",
       "      1                   229081.000    2.538     7.535  0.003  1.000   \n",
       "True  0                     2012.000    6.777    51.125  0.001  0.992   \n",
       "      1                     1262.000    1.227     2.243  0.171  0.995   \n",
       "\n",
       "                                 energy difference                       \\\n",
       "                             max             count   mean    std    min   \n",
       "close classification                                                      \n",
       "False 0               228094.700          5113.000  0.548  0.273  0.000   \n",
       "      1                  535.828        229081.000  0.328  0.232  0.000   \n",
       "True  0                 1449.956          2012.000  0.374  0.248  0.000   \n",
       "      1                   76.363          1262.000  0.284  0.200  0.000   \n",
       "\n",
       "                                    \n",
       "                        50%    max  \n",
       "close classification                \n",
       "False 0               0.576  0.996  \n",
       "      1               0.289  0.993  \n",
       "True  0               0.339  0.992  \n",
       "      1               0.250  0.829  "
      ]
     },
     "execution_count": 167,
     "metadata": {},
     "output_type": "execute_result"
    }
   ],
   "source": [
    "# Group by close events, then by which class the event was classified as\n",
    "group = dstats.groupby([\"close\", \"classification\"])\n",
    "# Get statistics for the relevant columns. Percentiles of 0.5 is interpreted as the median value\n",
    "group.describe(include=[\"float\"], percentiles=[0.5]).applymap('{:.3f}'.format)"
   ]
  },
  {
   "cell_type": "markdown",
   "metadata": {},
   "source": [
    "# Distributions and scatterplot"
   ]
  },
  {
   "cell_type": "markdown",
   "metadata": {},
   "source": [
    "### Comparing correct and misclassified double events"
   ]
  },
  {
   "cell_type": "code",
   "execution_count": null,
   "metadata": {},
   "outputs": [],
   "source": [
    "dist_bins = np.arange(0, np.amax(rel_distance_test), 0.5)\n",
    "energy_bins = np.arange(0, np.amax(energy_diff_test), 0.02)\n",
    "fig, ax = plt.subplots(1, 2, figsize=(12,4))\n",
    "ax[0].hist(rel_distance_test[double_indices][correct_doubles], bins=dist_bins, alpha=0.5, label=\"correct\")\n",
    "ax[0].hist(rel_distance_test[double_indices][wrong_doubles], bins=dist_bins, alpha=0.5, label=\"wrong\")\n",
    "ax[0].set_title(\"Distribution of separation distances\\n for classified double events\")\n",
    "ax[0].set_xlabel(\"Separation distance [mm]\")\n",
    "ax[0].set_ylabel(\"Number of events\")\n",
    "ax[0].legend()\n",
    "ax[1].hist(rel_energy_test[double_indices][correct_doubles], bins=energy_bins, alpha=0.5, label=\"correct\")\n",
    "ax[1].hist(rel_energy_test[double_indices][wrong_doubles], bins=energy_bins, alpha=0.5, label=\"wrong\")\n",
    "ax[1].set_title(\"Distribution of relative energy \\n for classified double events\")\n",
    "ax[1].set_xlabel(\"Relative energy\")\n",
    "ax[1].set_ylabel(\"Number of events\")\n",
    "ax[1].legend()\n",
    "fig.savefig(FIGURE_PATH+net+\"_relative_test_compare.pdf\", format=\"pdf\")"
   ]
  },
  {
   "cell_type": "code",
   "execution_count": null,
   "metadata": {},
   "outputs": [],
   "source": [
    "dist_bins = np.arange(0, np.amax(rel_distance_test), 0.5)\n",
    "energy_bins = np.arange(0, 10, 0.1)\n",
    "fig, ax = plt.subplots(1, 2, figsize=(12,4))\n",
    "#ax[0].hist(rel_distance_test[double_indices][correct_doubles], bins=dist_bins, alpha=0.5, label=\"correct\")\n",
    "ax[0].hist(rel_distance_test[double_indices][wrong_doubles], bins=dist_bins, alpha=0.5, label=\"wrong\")\n",
    "ax[0].set_title(\"Distribution of Relative distances\\n for classified double events\")\n",
    "ax[0].set_xlabel(\"Relative distance [mm]\")\n",
    "ax[0].set_ylabel(\"Number of events\")\n",
    "ax[0].legend()\n",
    "#ax[1].hist(rel_energy_test[double_indices][correct_doubles], bins=energy_bins, alpha=0.5, label=\"correct\")\n",
    "#ax[1].hist(rel_energy_test[double_indices][wrong_doubles], bins=energy_bins, alpha=0.5, label=\"wrong\")\n",
    "ax[1].hist(rel_energy_test[double_indices][wrong_doubles], label=\"wrong\")\n",
    "ax[1].set_title(\"Distribution of relative energy \\n for classified double events\")\n",
    "ax[1].set_xlabel(\"Relative energy\")\n",
    "ax[1].set_ylabel(\"Number of events\")\n",
    "ax[1].legend()\n",
    "fig.savefig(FIGURE_PATH+net+\"_relative_test_compare.pdf\", format=\"pdf\")"
   ]
  },
  {
   "cell_type": "markdown",
   "metadata": {},
   "source": [
    "### Scatterplot relative distance vs. relative energy"
   ]
  },
  {
   "cell_type": "code",
   "execution_count": null,
   "metadata": {},
   "outputs": [],
   "source": [
    "plt.scatter(\n",
    "    rel_distance_test[double_indices][wrong_doubles], \n",
    "    rel_energy_test[double_indices][wrong_doubles],\n",
    "    marker='.',\n",
    "    )\n",
    "plt.title(\"Separation distance vs. relative energy for misclassified double events\")\n",
    "plt.xlabel(\"Separation distance [mm]\")\n",
    "plt.ylabel(\"Relative energy\")\n",
    "plt.show()"
   ]
  },
  {
   "cell_type": "markdown",
   "metadata": {},
   "source": [
    "# Distribution of position around highest intensity pixel\n",
    "In previous work data analysis showed that most event positions are within the highest intensity pixel,\n",
    "and all (verify!) events are within the two highest intensity pixels,\n",
    "It might be reasonable to look at how the predicted positions are distributed around the highest intensity\n",
    "pixel."
   ]
  },
  {
   "cell_type": "code",
   "execution_count": null,
   "metadata": {},
   "outputs": [],
   "source": [
    "imgs = images[single_indices].reshape(images[single_indices].shape[0],16,16)\n",
    "\n",
    "# get index of highest energy pixel\n",
    "print(np.unravel_index(np.argmax(imgs[0], axis=None), imgs[0].shape))\n",
    "fix, ax = plt.subplots()\n",
    "ax.imshow(imgs[0])\n",
    "ax.plot(0,0, 'rx')"
   ]
  },
  {
   "cell_type": "code",
   "execution_count": null,
   "metadata": {},
   "outputs": [],
   "source": [
    "config = {\n",
    "    \"DATA_PATH\": \"../../data/real/anodedata.txt\",              \n",
    "    \"MODEL_PATH\": \"../../data/output/models/\",                \n",
    "    \"CLASSIFIER\": \"Project-0.97.hdf5\",                      \n",
    "    \"SINGLE_ENERGY_MODEL\": \"single_energy_model_name.hdf5\",    \n",
    "    \"SINGLE_POSITION_MODEL\": \"single_position_model_name.hdf5\",\n",
    "    \"DOUBLE_ENERGY_MODEL\": \"double_energy_model_name.hdf5\",    \n",
    "    \"DOUBLE_POSITION_MODEL\": \"double_position_model_name.hdf5\" \n",
    "}\n",
    "\n",
    "data = import_real_data(config)\n",
    "print(data['image'].type)\n"
   ]
  }
 ],
 "metadata": {
  "hide_input": false,
  "kernelspec": {
   "display_name": "Python 3",
   "language": "python",
   "name": "python3"
  },
  "language_info": {
   "codemirror_mode": {
    "name": "ipython",
    "version": 3
   },
   "file_extension": ".py",
   "mimetype": "text/x-python",
   "name": "python",
   "nbconvert_exporter": "python",
   "pygments_lexer": "ipython3",
   "version": "3.8.2"
  },
  "latex_envs": {
   "LaTeX_envs_menu_present": true,
   "autoclose": false,
   "autocomplete": true,
   "bibliofile": "biblio.bib",
   "cite_by": "apalike",
   "current_citInitial": 1,
   "eqLabelWithNumbers": true,
   "eqNumInitial": 1,
   "hotkeys": {
    "equation": "Ctrl-E",
    "itemize": "Ctrl-I"
   },
   "labels_anchors": false,
   "latex_user_defs": false,
   "report_style_numbering": false,
   "user_envs_cfg": false
  },
  "toc": {
   "base_numbering": 1,
   "nav_menu": {},
   "number_sections": true,
   "sideBar": true,
   "skip_h1_title": false,
   "title_cell": "Table of Contents",
   "title_sidebar": "Contents",
   "toc_cell": false,
   "toc_position": {},
   "toc_section_display": true,
   "toc_window_display": false
  }
 },
 "nbformat": 4,
 "nbformat_minor": 4
}
