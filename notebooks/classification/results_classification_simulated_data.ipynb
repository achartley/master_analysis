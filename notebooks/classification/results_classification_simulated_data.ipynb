{
 "cells": [
  {
   "cell_type": "markdown",
   "metadata": {},
   "source": [
    "# Analysis of results from simulated data\n",
    "Deeper look into a model's performance on simulated data."
   ]
  },
  {
   "cell_type": "code",
   "execution_count": 104,
   "metadata": {},
   "outputs": [
    {
     "name": "stdout",
     "output_type": "stream",
     "text": [
      "The autoreload extension is already loaded. To reload it, use:\n",
      "  %reload_ext autoreload\n"
     ]
    }
   ],
   "source": [
    "# Imports\n",
    "import numpy as np\n",
    "import pandas as pd\n",
    "import json\n",
    "import seaborn as sns\n",
    "import matplotlib.pyplot as plt\n",
    "import tensorflow as tf\n",
    "from sklearn.model_selection import train_test_split\n",
    "from master_scripts.data_functions import (load_experiment, get_git_root, separation_distance, energy_difference,\n",
    "                                           relative_energy, event_indices, normalize_image_data)\n",
    "from master_scripts.analysis_functions import (doubles_classification_stats, singles_classification_stats)\n",
    "%load_ext autoreload\n",
    "%autoreload 2\n",
    "repo_root = get_git_root()"
   ]
  },
  {
   "cell_type": "markdown",
   "metadata": {},
   "source": [
    "## Data and experiment import\n",
    "Load the image data and split into training and validation sets. Since we specify the random seed, we can\n",
    "reproduce the exact same data the model was originally validated on to explore it."
   ]
  },
  {
   "cell_type": "code",
   "execution_count": 3,
   "metadata": {},
   "outputs": [],
   "source": [
    "images = np.load(repo_root + \"data/simulated/images_full_pixelmod.npy\")\n",
    "positions = np.load(repo_root + \"data/simulated/positions_full.npy\")\n",
    "energies = np.load(repo_root + \"data/simulated/energies_full.npy\")\n",
    "labels = np.load(repo_root + \"data/simulated/labels_full.npy\")"
   ]
  },
  {
   "cell_type": "markdown",
   "metadata": {},
   "source": [
    "## Add dead or bad pixels to simulated data"
   ]
  },
  {
   "cell_type": "code",
   "execution_count": 4,
   "metadata": {},
   "outputs": [
    {
     "data": {
      "image/png": "[encoded data removed]",
      "text/plain": [
       "<Figure size 432x288 with 2 Axes>"
      ]
     },
     "metadata": {
      "needs_background": "light"
     },
     "output_type": "display_data"
    }
   ],
   "source": [
    "ax = plt.gca()\n",
    "image = images[0]\n",
    "image[3, 13] = 0\n",
    "image[0, :] = 0\n",
    "image[15, :] = 0\n",
    "sns.heatmap(image.reshape((16, 16)), square=True, cmap=\"YlGnBu_r\", ax=ax)\n",
    "ax.invert_yaxis()\n",
    "#ax.plot(3, 13, 'rx')"
   ]
  },
  {
   "cell_type": "code",
   "execution_count": 5,
   "metadata": {},
   "outputs": [
    {
     "name": "stdout",
     "output_type": "stream",
     "text": [
      "==== Experiment metrics\n",
      "{\n",
      "  \"accuracy_score\": 0.9832926315789474,\n",
      "  \"confusion_matrix\": {\n",
      "    \"TN\": 236349,\n",
      "    \"FP\": 1183,\n",
      "    \"FN\": 6753,\n",
      "    \"TP\": 230715\n",
      "  },\n",
      "  \"f1_score\": 0.9830920859201562,\n",
      "  \"matthews_corrcoef\": 0.9668510918102141,\n",
      "  \"roc_auc_score\": 0.9928096454052002\n",
      "}\n",
      "====\n"
     ]
    }
   ],
   "source": [
    "# Load experiment and associated model (must be a saved model instance complete with weights)\n",
    "#experiment_id = \"40350020681b\"\n",
    "experiment_id = \"9886d077068a\"\n",
    "experiment = load_experiment(experiment_id)\n",
    "model = tf.keras.models.load_model(repo_root + \"models/\" + experiment_id + \".h5\")\n",
    "# Print experiment metrics\n",
    "print(\"==== Experiment metrics\")\n",
    "print(json.dumps(experiment[\"metrics\"], indent=2))\n",
    "print(\"====\")"
   ]
  },
  {
   "cell_type": "markdown",
   "metadata": {},
   "source": [
    "## Predict on validation data"
   ]
  },
  {
   "cell_type": "code",
   "execution_count": 6,
   "metadata": {},
   "outputs": [],
   "source": [
    "x_idx = np.arange(len(images))\n",
    "train_idx, val_idx = train_test_split(\n",
    "    x_idx,\n",
    "    random_state=experiment['experiment_config']['random_seed']\n",
    ")   \n",
    "# Predict on the validation set\n",
    "prediction = model.predict(normalize_image_data(images[val_idx]))\n",
    "val_pred = (prediction > 0.5).astype(int)"
   ]
  },
  {
   "cell_type": "markdown",
   "metadata": {},
   "source": [
    "# Single events\n",
    "## Descriptive stats on validation data"
   ]
  },
  {
   "cell_type": "code",
   "execution_count": 193,
   "metadata": {},
   "outputs": [],
   "source": [
    "singles = singles_classification_stats(positions[val_idx], energies[val_idx], val_pred)"
   ]
  },
  {
   "cell_type": "code",
   "execution_count": 202,
   "metadata": {},
   "outputs": [
    {
     "name": "stdout",
     "output_type": "stream",
     "text": [
      "{\n",
      "  \"TN\": 236349,\n",
      "  \"FP\": 1183,\n",
      "  \"FN\": 6753,\n",
      "  \"TP\": 230715\n",
      "}\n"
     ]
    },
    {
     "data": {
      "text/html": [
       "<div>\n",
       "<style scoped>\n",
       "    .dataframe tbody tr th:only-of-type {\n",
       "        vertical-align: middle;\n",
       "    }\n",
       "\n",
       "    .dataframe tbody tr th {\n",
       "        vertical-align: top;\n",
       "    }\n",
       "\n",
       "    .dataframe thead tr th {\n",
       "        text-align: left;\n",
       "    }\n",
       "\n",
       "    .dataframe thead tr:last-of-type th {\n",
       "        text-align: right;\n",
       "    }\n",
       "</style>\n",
       "<table border=\"1\" class=\"dataframe\">\n",
       "  <thead>\n",
       "    <tr>\n",
       "      <th></th>\n",
       "      <th colspan=\"3\" halign=\"left\">x_pos</th>\n",
       "      <th colspan=\"3\" halign=\"left\">y_pos</th>\n",
       "      <th colspan=\"3\" halign=\"left\">energy</th>\n",
       "    </tr>\n",
       "    <tr>\n",
       "      <th></th>\n",
       "      <th>mean</th>\n",
       "      <th>std</th>\n",
       "      <th>median</th>\n",
       "      <th>mean</th>\n",
       "      <th>std</th>\n",
       "      <th>median</th>\n",
       "      <th>mean</th>\n",
       "      <th>std</th>\n",
       "      <th>median</th>\n",
       "    </tr>\n",
       "    <tr>\n",
       "      <th>classification</th>\n",
       "      <th></th>\n",
       "      <th></th>\n",
       "      <th></th>\n",
       "      <th></th>\n",
       "      <th></th>\n",
       "      <th></th>\n",
       "      <th></th>\n",
       "      <th></th>\n",
       "      <th></th>\n",
       "    </tr>\n",
       "  </thead>\n",
       "  <tbody>\n",
       "    <tr>\n",
       "      <th>0</th>\n",
       "      <td>7.991</td>\n",
       "      <td>4.233</td>\n",
       "      <td>7.993</td>\n",
       "      <td>8.003</td>\n",
       "      <td>4.232</td>\n",
       "      <td>8.004</td>\n",
       "      <td>0.499</td>\n",
       "      <td>0.289</td>\n",
       "      <td>0.498</td>\n",
       "    </tr>\n",
       "    <tr>\n",
       "      <th>1</th>\n",
       "      <td>8.428</td>\n",
       "      <td>4.310</td>\n",
       "      <td>8.654</td>\n",
       "      <td>7.430</td>\n",
       "      <td>4.023</td>\n",
       "      <td>7.303</td>\n",
       "      <td>0.742</td>\n",
       "      <td>0.199</td>\n",
       "      <td>0.779</td>\n",
       "    </tr>\n",
       "  </tbody>\n",
       "</table>\n",
       "</div>"
      ],
      "text/plain": [
       "                x_pos                y_pos               energy              \n",
       "                 mean    std median   mean    std median   mean    std median\n",
       "classification                                                               \n",
       "0               7.991  4.233  7.993  8.003  4.232  8.004  0.499  0.289  0.498\n",
       "1               8.428  4.310  8.654  7.430  4.023  7.303  0.742  0.199  0.779"
      ]
     },
     "metadata": {},
     "output_type": "display_data"
    }
   ],
   "source": [
    "# group by classification\n",
    "sstats = singles[singles.columns[:-1]].groupby('classification')\n",
    "# Aggregate the desired statistics into a new df\n",
    "sstats = sstats.agg([np.mean, np.std, np.median]).applymap('{:.3f}'.format)\n",
    "print(json.dumps(experiment['metrics']['confusion_matrix'], indent=2))\n",
    "display(sstats)"
   ]
  },
  {
   "cell_type": "markdown",
   "metadata": {},
   "source": [
    "# Double events\n",
    "## Descriptive statistics on validation data"
   ]
  },
  {
   "cell_type": "code",
   "execution_count": 196,
   "metadata": {},
   "outputs": [],
   "source": [
    "# Load dataframes\n",
    "doubles = doubles_classification_stats(positions[val_idx], energies[val_idx], val_pred)"
   ]
  },
  {
   "cell_type": "code",
   "execution_count": 315,
   "metadata": {},
   "outputs": [
    {
     "name": "stdout",
     "output_type": "stream",
     "text": [
      "{\n",
      "  \"TN\": 236349,\n",
      "  \"FP\": 1183,\n",
      "  \"FN\": 6753,\n",
      "  \"TP\": 230715\n",
      "}\n"
     ]
    },
    {
     "data": {
      "text/html": [
       "<div>\n",
       "<style scoped>\n",
       "    .dataframe tbody tr th:only-of-type {\n",
       "        vertical-align: middle;\n",
       "    }\n",
       "\n",
       "    .dataframe tbody tr th {\n",
       "        vertical-align: top;\n",
       "    }\n",
       "\n",
       "    .dataframe thead tr th {\n",
       "        text-align: left;\n",
       "    }\n",
       "\n",
       "    .dataframe thead tr:last-of-type th {\n",
       "        text-align: right;\n",
       "    }\n",
       "</style>\n",
       "<table border=\"1\" class=\"dataframe\">\n",
       "  <thead>\n",
       "    <tr>\n",
       "      <th></th>\n",
       "      <th></th>\n",
       "      <th colspan=\"5\" halign=\"left\">separation distance</th>\n",
       "      <th colspan=\"5\" halign=\"left\">relative energy</th>\n",
       "      <th colspan=\"5\" halign=\"left\">energy difference</th>\n",
       "    </tr>\n",
       "    <tr>\n",
       "      <th></th>\n",
       "      <th></th>\n",
       "      <th>mean</th>\n",
       "      <th>std</th>\n",
       "      <th>median</th>\n",
       "      <th>amin</th>\n",
       "      <th>amax</th>\n",
       "      <th>mean</th>\n",
       "      <th>std</th>\n",
       "      <th>median</th>\n",
       "      <th>amin</th>\n",
       "      <th>amax</th>\n",
       "      <th>mean</th>\n",
       "      <th>std</th>\n",
       "      <th>median</th>\n",
       "      <th>amin</th>\n",
       "      <th>amax</th>\n",
       "    </tr>\n",
       "    <tr>\n",
       "      <th>close</th>\n",
       "      <th>classification</th>\n",
       "      <th></th>\n",
       "      <th></th>\n",
       "      <th></th>\n",
       "      <th></th>\n",
       "      <th></th>\n",
       "      <th></th>\n",
       "      <th></th>\n",
       "      <th></th>\n",
       "      <th></th>\n",
       "      <th></th>\n",
       "      <th></th>\n",
       "      <th></th>\n",
       "      <th></th>\n",
       "      <th></th>\n",
       "      <th></th>\n",
       "    </tr>\n",
       "  </thead>\n",
       "  <tbody>\n",
       "    <tr>\n",
       "      <th rowspan=\"2\" valign=\"top\">False</th>\n",
       "      <th>0</th>\n",
       "      <td>4.522</td>\n",
       "      <td>3.417</td>\n",
       "      <td>3.378</td>\n",
       "      <td>1.000</td>\n",
       "      <td>18.195</td>\n",
       "      <td>197.272</td>\n",
       "      <td>3464.083</td>\n",
       "      <td>1.171</td>\n",
       "      <td>0.000</td>\n",
       "      <td>228094.700</td>\n",
       "      <td>0.542</td>\n",
       "      <td>0.278</td>\n",
       "      <td>0.573</td>\n",
       "      <td>0.001</td>\n",
       "      <td>0.996</td>\n",
       "    </tr>\n",
       "    <tr>\n",
       "      <th>1</th>\n",
       "      <td>7.823</td>\n",
       "      <td>3.546</td>\n",
       "      <td>7.661</td>\n",
       "      <td>1.000</td>\n",
       "      <td>19.713</td>\n",
       "      <td>2.553</td>\n",
       "      <td>7.967</td>\n",
       "      <td>1.000</td>\n",
       "      <td>0.003</td>\n",
       "      <td>1185.119</td>\n",
       "      <td>0.329</td>\n",
       "      <td>0.232</td>\n",
       "      <td>0.289</td>\n",
       "      <td>0.000</td>\n",
       "      <td>0.993</td>\n",
       "    </tr>\n",
       "    <tr>\n",
       "      <th rowspan=\"2\" valign=\"top\">True</th>\n",
       "      <th>0</th>\n",
       "      <td>0.640</td>\n",
       "      <td>0.236</td>\n",
       "      <td>0.670</td>\n",
       "      <td>0.021</td>\n",
       "      <td>1.000</td>\n",
       "      <td>7.250</td>\n",
       "      <td>53.580</td>\n",
       "      <td>0.972</td>\n",
       "      <td>0.001</td>\n",
       "      <td>1449.956</td>\n",
       "      <td>0.372</td>\n",
       "      <td>0.248</td>\n",
       "      <td>0.339</td>\n",
       "      <td>0.000</td>\n",
       "      <td>0.992</td>\n",
       "    </tr>\n",
       "    <tr>\n",
       "      <th>1</th>\n",
       "      <td>0.695</td>\n",
       "      <td>0.231</td>\n",
       "      <td>0.733</td>\n",
       "      <td>0.021</td>\n",
       "      <td>1.000</td>\n",
       "      <td>1.327</td>\n",
       "      <td>2.281</td>\n",
       "      <td>0.997</td>\n",
       "      <td>0.073</td>\n",
       "      <td>76.363</td>\n",
       "      <td>0.298</td>\n",
       "      <td>0.210</td>\n",
       "      <td>0.261</td>\n",
       "      <td>0.000</td>\n",
       "      <td>0.892</td>\n",
       "    </tr>\n",
       "  </tbody>\n",
       "</table>\n",
       "</div>"
      ],
      "text/plain": [
       "                     separation distance                               \\\n",
       "                                    mean    std median   amin    amax   \n",
       "close classification                                                    \n",
       "False 0                            4.522  3.417  3.378  1.000  18.195   \n",
       "      1                            7.823  3.546  7.661  1.000  19.713   \n",
       "True  0                            0.640  0.236  0.670  0.021   1.000   \n",
       "      1                            0.695  0.231  0.733  0.021   1.000   \n",
       "\n",
       "                     relative energy                                      \\\n",
       "                                mean       std median   amin        amax   \n",
       "close classification                                                       \n",
       "False 0                      197.272  3464.083  1.171  0.000  228094.700   \n",
       "      1                        2.553     7.967  1.000  0.003    1185.119   \n",
       "True  0                        7.250    53.580  0.972  0.001    1449.956   \n",
       "      1                        1.327     2.281  0.997  0.073      76.363   \n",
       "\n",
       "                     energy difference                              \n",
       "                                  mean    std median   amin   amax  \n",
       "close classification                                                \n",
       "False 0                          0.542  0.278  0.573  0.001  0.996  \n",
       "      1                          0.329  0.232  0.289  0.000  0.993  \n",
       "True  0                          0.372  0.248  0.339  0.000  0.992  \n",
       "      1                          0.298  0.210  0.261  0.000  0.892  "
      ]
     },
     "metadata": {},
     "output_type": "display_data"
    }
   ],
   "source": [
    "# Group by close events, then by which class the event was classified as\n",
    "dstats = doubles[doubles.columns[:-1]].groupby(['close', 'classification'])\n",
    "# Aggregate the desired statistics into a new df\n",
    "dstats = dstats.agg([np.mean, np.std, np.median, np.min, np.max]).applymap('{:.3f}'.format)\n",
    "print(json.dumps(experiment['metrics']['confusion_matrix'], indent=2))\n",
    "display(dstats)"
   ]
  },
  {
   "cell_type": "markdown",
   "metadata": {},
   "source": [
    "## Distributions and scatterplot"
   ]
  },
  {
   "cell_type": "code",
   "execution_count": 303,
   "metadata": {},
   "outputs": [],
   "source": [
    "dgroup = doubles.groupby(['close', 'classification'])"
   ]
  },
  {
   "cell_type": "markdown",
   "metadata": {},
   "source": [
    "### Comparing correct and misclassified double events\n",
    "#### Separation distances"
   ]
  },
  {
   "cell_type": "code",
   "execution_count": 306,
   "metadata": {},
   "outputs": [
    {
     "data": {
      "text/plain": [
       "<matplotlib.legend.Legend at 0x7fc3a8be9a30>"
      ]
     },
     "execution_count": 306,
     "metadata": {},
     "output_type": "execute_result"
    },
    {
     "data": {
      "image/png": "[encoded data removed]",
      "text/plain": [
       "<Figure size 1152x360 with 2 Axes>"
      ]
     },
     "metadata": {
      "needs_background": "light"
     },
     "output_type": "display_data"
    }
   ],
   "source": [
    "fig, ax = plt.subplots(1, 2, figsize=(16, 5))\n",
    "keys = list(dgroup.groups.keys())\n",
    "sns.distplot(dgroup.get_group(keys[0])['separation distance'], kde=False, label=keys[0][1], ax=ax[0])\n",
    "sns.distplot(dgroup.get_group(keys[1])['separation distance'], kde=False, label=keys[1][1], ax=ax[0])\n",
    "sns.distplot(dgroup.get_group(keys[2])['separation distance'], kde=False, label=keys[2][1], ax=ax[1])\n",
    "sns.distplot(dgroup.get_group(keys[3])['separation distance'], kde=False, label=keys[3][1], ax=ax[1])\n",
    "ax[0].set_title(\"Separation distances for non-close events\")\n",
    "ax[0].legend()\n",
    "ax[1].set_title(\"Separation distances for close events\")\n",
    "ax[1].legend()"
   ]
  },
  {
   "cell_type": "markdown",
   "metadata": {},
   "source": [
    "#### Relative energy"
   ]
  },
  {
   "cell_type": "code",
   "execution_count": 314,
   "metadata": {},
   "outputs": [
    {
     "data": {
      "text/plain": [
       "<matplotlib.legend.Legend at 0x7fc3a928d760>"
      ]
     },
     "execution_count": 314,
     "metadata": {},
     "output_type": "execute_result"
    },
    {
     "data": {
      "image/png": "[encoded data removed]",
      "text/plain": [
       "<Figure size 1152x360 with 2 Axes>"
      ]
     },
     "metadata": {
      "needs_background": "light"
     },
     "output_type": "display_data"
    }
   ],
   "source": [
    "dgroup = doubles.groupby(['close', 'classification'])\n",
    "fig, ax = plt.subplots(1, 2, figsize=(16, 5))\n",
    "keys = list(dgroup.groups.keys())\n",
    "bins = \n",
    "sns.distplot(dgroup.get_group(keys[0])['relative energy'], kde=False, label=keys[0][1], ax=ax[0])\n",
    "sns.distplot(dgroup.get_group(keys[1])['relative energy'], kde=False, label=keys[1][1], ax=ax[0])\n",
    "sns.distplot(dgroup.get_group(keys[2])['relative energy'], kde=False, label=keys[2][1], ax=ax[1])\n",
    "sns.distplot(dgroup.get_group(keys[3])['relative energy'], kde=False, label=keys[3][1], ax=ax[1])\n",
    "ax[0].set_title(\"Relative energies for non-close events\")\n",
    "ax[0].legend()\n",
    "ax[1].set_title(\"Relative energies for close events\")\n",
    "ax[1].legend()"
   ]
  },
  {
   "cell_type": "markdown",
   "metadata": {},
   "source": [
    "#### Energy difference"
   ]
  },
  {
   "cell_type": "code",
   "execution_count": 311,
   "metadata": {},
   "outputs": [
    {
     "data": {
      "text/plain": [
       "<matplotlib.legend.Legend at 0x7fc3a91e2ca0>"
      ]
     },
     "execution_count": 311,
     "metadata": {},
     "output_type": "execute_result"
    },
    {
     "data": {
      "image/png": "[encoded data removed]",
      "text/plain": [
       "<Figure size 1152x360 with 2 Axes>"
      ]
     },
     "metadata": {
      "needs_background": "light"
     },
     "output_type": "display_data"
    }
   ],
   "source": [
    "fig, ax = plt.subplots(1, 2, figsize=(16, 5))\n",
    "keys = list(dgroup.groups.keys())\n",
    "sns.distplot(dgroup.get_group(keys[0])['energy difference'], kde=False, label=keys[0][1], ax=ax[0])\n",
    "sns.distplot(dgroup.get_group(keys[1])['energy difference'], kde=False, label=keys[1][1], ax=ax[0])\n",
    "sns.distplot(dgroup.get_group(keys[2])['energy difference'], kde=False, label=keys[2][1], ax=ax[1])\n",
    "sns.distplot(dgroup.get_group(keys[3])['energy difference'], kde=False, label=keys[3][1], ax=ax[1])\n",
    "ax[0].set_title(\"Energy difference for non-close events\")\n",
    "ax[0].legend()\n",
    "ax[1].set_title(\"Energy difference for close events\")\n",
    "ax[1].legend()"
   ]
  },
  {
   "cell_type": "code",
   "execution_count": null,
   "metadata": {},
   "outputs": [],
   "source": [
    "dist_bins = np.arange(0, np.amax(rel_distance_test), 0.5)\n",
    "energy_bins = np.arange(0, np.amax(energy_diff_test), 0.02)\n",
    "fig, ax = plt.subplots(1, 2, figsize=(12,4))\n",
    "ax[0].hist(rel_distance_test[double_indices][correct_doubles], bins=dist_bins, alpha=0.5, label=\"correct\")\n",
    "ax[0].hist(rel_distance_test[double_indices][wrong_doubles], bins=dist_bins, alpha=0.5, label=\"wrong\")\n",
    "ax[0].set_title(\"Distribution of separation distances\\n for classified double events\")\n",
    "ax[0].set_xlabel(\"Separation distance [mm]\")\n",
    "ax[0].set_ylabel(\"Number of events\")\n",
    "ax[0].legend()\n",
    "ax[1].hist(rel_energy_test[double_indices][correct_doubles], bins=energy_bins, alpha=0.5, label=\"correct\")\n",
    "ax[1].hist(rel_energy_test[double_indices][wrong_doubles], bins=energy_bins, alpha=0.5, label=\"wrong\")\n",
    "ax[1].set_title(\"Distribution of relative energy \\n for classified double events\")\n",
    "ax[1].set_xlabel(\"Relative energy\")\n",
    "ax[1].set_ylabel(\"Number of events\")\n",
    "ax[1].legend()\n",
    "fig.savefig(FIGURE_PATH+net+\"_relative_test_compare.pdf\", format=\"pdf\")"
   ]
  },
  {
   "cell_type": "code",
   "execution_count": null,
   "metadata": {},
   "outputs": [],
   "source": [
    "dist_bins = np.arange(0, np.amax(rel_distance_test), 0.5)\n",
    "energy_bins = np.arange(0, 10, 0.1)\n",
    "fig, ax = plt.subplots(1, 2, figsize=(12,4))\n",
    "#ax[0].hist(rel_distance_test[double_indices][correct_doubles], bins=dist_bins, alpha=0.5, label=\"correct\")\n",
    "ax[0].hist(rel_distance_test[double_indices][wrong_doubles], bins=dist_bins, alpha=0.5, label=\"wrong\")\n",
    "ax[0].set_title(\"Distribution of Relative distances\\n for classified double events\")\n",
    "ax[0].set_xlabel(\"Relative distance [mm]\")\n",
    "ax[0].set_ylabel(\"Number of events\")\n",
    "ax[0].legend()\n",
    "#ax[1].hist(rel_energy_test[double_indices][correct_doubles], bins=energy_bins, alpha=0.5, label=\"correct\")\n",
    "#ax[1].hist(rel_energy_test[double_indices][wrong_doubles], bins=energy_bins, alpha=0.5, label=\"wrong\")\n",
    "ax[1].hist(rel_energy_test[double_indices][wrong_doubles], label=\"wrong\")\n",
    "ax[1].set_title(\"Distribution of relative energy \\n for classified double events\")\n",
    "ax[1].set_xlabel(\"Relative energy\")\n",
    "ax[1].set_ylabel(\"Number of events\")\n",
    "ax[1].legend()\n",
    "fig.savefig(FIGURE_PATH+net+\"_relative_test_compare.pdf\", format=\"pdf\")"
   ]
  },
  {
   "cell_type": "markdown",
   "metadata": {},
   "source": [
    "### Scatterplot relative distance vs. relative energy"
   ]
  },
  {
   "cell_type": "code",
   "execution_count": null,
   "metadata": {},
   "outputs": [],
   "source": [
    "plt.scatter(\n",
    "    rel_distance_test[double_indices][wrong_doubles], \n",
    "    rel_energy_test[double_indices][wrong_doubles],\n",
    "    marker='.',\n",
    "    )\n",
    "plt.title(\"Separation distance vs. relative energy for misclassified double events\")\n",
    "plt.xlabel(\"Separation distance [mm]\")\n",
    "plt.ylabel(\"Relative energy\")\n",
    "plt.show()"
   ]
  },
  {
   "cell_type": "markdown",
   "metadata": {},
   "source": [
    "# Distribution of position around highest intensity pixel\n",
    "In previous work data analysis showed that most event positions are within the highest intensity pixel,\n",
    "and all (verify!) events are within the two highest intensity pixels,\n",
    "It might be reasonable to look at how the predicted positions are distributed around the highest intensity\n",
    "pixel."
   ]
  },
  {
   "cell_type": "code",
   "execution_count": null,
   "metadata": {},
   "outputs": [],
   "source": [
    "imgs = images[single_indices].reshape(images[single_indices].shape[0],16,16)\n",
    "\n",
    "# get index of highest energy pixel\n",
    "print(np.unravel_index(np.argmax(imgs[0], axis=None), imgs[0].shape))\n",
    "fix, ax = plt.subplots()\n",
    "ax.imshow(imgs[0])\n",
    "ax.plot(0,0, 'rx')"
   ]
  },
  {
   "cell_type": "code",
   "execution_count": null,
   "metadata": {},
   "outputs": [],
   "source": [
    "config = {\n",
    "    \"DATA_PATH\": \"../../data/real/anodedata.txt\",              \n",
    "    \"MODEL_PATH\": \"../../data/output/models/\",                \n",
    "    \"CLASSIFIER\": \"Project-0.97.hdf5\",                      \n",
    "    \"SINGLE_ENERGY_MODEL\": \"single_energy_model_name.hdf5\",    \n",
    "    \"SINGLE_POSITION_MODEL\": \"single_position_model_name.hdf5\",\n",
    "    \"DOUBLE_ENERGY_MODEL\": \"double_energy_model_name.hdf5\",    \n",
    "    \"DOUBLE_POSITION_MODEL\": \"double_position_model_name.hdf5\" \n",
    "}\n",
    "\n",
    "data = import_real_data(config)\n",
    "print(data['image'].type)\n"
   ]
  }
 ],
 "metadata": {
  "hide_input": false,
  "kernelspec": {
   "display_name": "Python 3",
   "language": "python",
   "name": "python3"
  },
  "language_info": {
   "codemirror_mode": {
    "name": "ipython",
    "version": 3
   },
   "file_extension": ".py",
   "mimetype": "text/x-python",
   "name": "python",
   "nbconvert_exporter": "python",
   "pygments_lexer": "ipython3",
   "version": "3.8.2"
  },
  "latex_envs": {
   "LaTeX_envs_menu_present": true,
   "autoclose": false,
   "autocomplete": true,
   "bibliofile": "biblio.bib",
   "cite_by": "apalike",
   "current_citInitial": 1,
   "eqLabelWithNumbers": true,
   "eqNumInitial": 1,
   "hotkeys": {
    "equation": "Ctrl-E",
    "itemize": "Ctrl-I"
   },
   "labels_anchors": false,
   "latex_user_defs": false,
   "report_style_numbering": false,
   "user_envs_cfg": false
  },
  "toc": {
   "base_numbering": 1,
   "nav_menu": {},
   "number_sections": true,
   "sideBar": true,
   "skip_h1_title": false,
   "title_cell": "Table of Contents",
   "title_sidebar": "Contents",
   "toc_cell": false,
   "toc_position": {},
   "toc_section_display": true,
   "toc_window_display": false
  }
 },
 "nbformat": 4,
 "nbformat_minor": 4
}
