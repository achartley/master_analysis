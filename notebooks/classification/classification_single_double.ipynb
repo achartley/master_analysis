{
 "cells": [
  {
   "cell_type": "markdown",
   "metadata": {},
   "source": [
    "# Classificiation of single and double events\n",
    "This notebook aims to build a model capable of classifying single and double events in a mixed dataset."
   ]
  },
  {
   "cell_type": "code",
   "execution_count": 7,
   "metadata": {},
   "outputs": [
    {
     "name": "stdout",
     "output_type": "stream",
     "text": [
      "Number of classes: 2\n",
      "Energies shape: (2000000, 2)\n",
      "Positions shape: (2000000, 4)\n",
      "Labels shape: (2000000, 2)\n"
     ]
    }
   ],
   "source": [
    "import numpy as np\n",
    "import tensorflow as tf\n",
    "from tensorflow.keras.utils import to_categorical\n",
    "import sys\n",
    "import matplotlib.pyplot as plt\n",
    "import master_data_functions.functions as dfunc\n",
    "\n",
    "# silence deprecation warnings from tensorflow\n",
    "import warnings\n",
    "warnings.simplefilter('ignore', FutureWarning)\n",
    "\n",
    "# File import\n",
    "# Sample filenames are:\n",
    "# CeBr10kSingle_1.txt -> single events, \n",
    "# CeBr10kSingle_2.txt -> single events\n",
    "# CeBr10k_1.txt -> mixed single and double events \n",
    "# CeBr10.txt -> small file of 10 samples\n",
    "\n",
    "keywords = {\n",
    "    \"single_1\": \"CeBr10kSingle_1\",\n",
    "    \"single_2\": \"CeBr10kSingle_2\",\n",
    "    \"mix\": \"CeBr10k_1\",\n",
    "    \"small\": \"CeBr10\",\n",
    "    \"simulated\": \"CeBr2Mil_Mix\"}\n",
    "    \n",
    "dataset = \"simulated\"\n",
    "data = dfunc.import_data(\"simulated\")\n",
    "images = data[keywords[dataset]][\"images\"]\n",
    "energies = data[keywords[dataset]][\"energies\"]\n",
    "positions = data[keywords[dataset]][\"positions\"]\n",
    "labels = to_categorical(data[keywords[dataset]][\"labels\"])\n",
    "n_classes = labels.shape[1]\n",
    "\n",
    "\n",
    "print(\"Number of classes: {}\".format(n_classes))\n",
    "print(\"Energies shape: {}\".format(energies.shape))\n",
    "print(\"Positions shape: {}\".format(positions.shape))\n",
    "print(\"Labels shape: {}\".format(labels.shape))\n",
    "      "
   ]
  },
  {
   "cell_type": "markdown",
   "metadata": {},
   "source": [
    "\n",
    "## Set up training and test data"
   ]
  },
  {
   "cell_type": "code",
   "execution_count": 8,
   "metadata": {},
   "outputs": [
    {
     "ename": "MemoryError",
     "evalue": "Unable to allocate array with shape (2000000, 16, 16, 1) and data type float64",
     "output_type": "error",
     "traceback": [
      "\u001b[0;31m---------------------------------------------------------------------------\u001b[0m",
      "\u001b[0;31mMemoryError\u001b[0m                               Traceback (most recent call last)",
      "\u001b[0;32m<ipython-input-8-a5284afebff0>\u001b[0m in \u001b[0;36m<module>\u001b[0;34m\u001b[0m\n\u001b[1;32m      2\u001b[0m \u001b[0;34m\u001b[0m\u001b[0m\n\u001b[1;32m      3\u001b[0m \u001b[0;31m# Split the data into training and test sets\u001b[0m\u001b[0;34m\u001b[0m\u001b[0;34m\u001b[0m\u001b[0;34m\u001b[0m\u001b[0m\n\u001b[0;32m----> 4\u001b[0;31m \u001b[0mx_train\u001b[0m\u001b[0;34m,\u001b[0m \u001b[0mx_test\u001b[0m\u001b[0;34m,\u001b[0m \u001b[0my_train\u001b[0m\u001b[0;34m,\u001b[0m \u001b[0my_test\u001b[0m \u001b[0;34m=\u001b[0m \u001b[0mtrain_test_split\u001b[0m\u001b[0;34m(\u001b[0m\u001b[0mimages\u001b[0m\u001b[0;34m,\u001b[0m \u001b[0mlabels\u001b[0m\u001b[0;34m,\u001b[0m \u001b[0mtest_size\u001b[0m \u001b[0;34m=\u001b[0m \u001b[0;36m0.2\u001b[0m\u001b[0;34m)\u001b[0m\u001b[0;34m\u001b[0m\u001b[0;34m\u001b[0m\u001b[0m\n\u001b[0m\u001b[1;32m      5\u001b[0m \u001b[0mprint\u001b[0m\u001b[0;34m(\u001b[0m\u001b[0;34m\"Training and test data shapes:\"\u001b[0m\u001b[0;34m)\u001b[0m\u001b[0;34m\u001b[0m\u001b[0;34m\u001b[0m\u001b[0m\n\u001b[1;32m      6\u001b[0m \u001b[0mprint\u001b[0m\u001b[0;34m(\u001b[0m\u001b[0;34m\"x_train: {}\"\u001b[0m\u001b[0;34m.\u001b[0m\u001b[0mformat\u001b[0m\u001b[0;34m(\u001b[0m\u001b[0mx_train\u001b[0m\u001b[0;34m.\u001b[0m\u001b[0mshape\u001b[0m\u001b[0;34m)\u001b[0m\u001b[0;34m)\u001b[0m\u001b[0;34m\u001b[0m\u001b[0;34m\u001b[0m\u001b[0m\n",
      "\u001b[0;32m~/git/master_analysis/notebooks/pretrained/pretrained_venv/lib/python3.6/site-packages/sklearn/model_selection/_split.py\u001b[0m in \u001b[0;36mtrain_test_split\u001b[0;34m(*arrays, **options)\u001b[0m\n\u001b[1;32m   2122\u001b[0m \u001b[0;34m\u001b[0m\u001b[0m\n\u001b[1;32m   2123\u001b[0m     return list(chain.from_iterable((safe_indexing(a, train),\n\u001b[0;32m-> 2124\u001b[0;31m                                      safe_indexing(a, test)) for a in arrays))\n\u001b[0m\u001b[1;32m   2125\u001b[0m \u001b[0;34m\u001b[0m\u001b[0m\n\u001b[1;32m   2126\u001b[0m \u001b[0;34m\u001b[0m\u001b[0m\n",
      "\u001b[0;32m~/git/master_analysis/notebooks/pretrained/pretrained_venv/lib/python3.6/site-packages/sklearn/model_selection/_split.py\u001b[0m in \u001b[0;36m<genexpr>\u001b[0;34m(.0)\u001b[0m\n\u001b[1;32m   2122\u001b[0m \u001b[0;34m\u001b[0m\u001b[0m\n\u001b[1;32m   2123\u001b[0m     return list(chain.from_iterable((safe_indexing(a, train),\n\u001b[0;32m-> 2124\u001b[0;31m                                      safe_indexing(a, test)) for a in arrays))\n\u001b[0m\u001b[1;32m   2125\u001b[0m \u001b[0;34m\u001b[0m\u001b[0m\n\u001b[1;32m   2126\u001b[0m \u001b[0;34m\u001b[0m\u001b[0m\n",
      "\u001b[0;32m~/git/master_analysis/notebooks/pretrained/pretrained_venv/lib/python3.6/site-packages/sklearn/utils/__init__.py\u001b[0m in \u001b[0;36msafe_indexing\u001b[0;34m(X, indices)\u001b[0m\n\u001b[1;32m    217\u001b[0m                                    indices.dtype.kind == 'i'):\n\u001b[1;32m    218\u001b[0m             \u001b[0;31m# This is often substantially faster than X[indices]\u001b[0m\u001b[0;34m\u001b[0m\u001b[0;34m\u001b[0m\u001b[0;34m\u001b[0m\u001b[0m\n\u001b[0;32m--> 219\u001b[0;31m             \u001b[0;32mreturn\u001b[0m \u001b[0mX\u001b[0m\u001b[0;34m.\u001b[0m\u001b[0mtake\u001b[0m\u001b[0;34m(\u001b[0m\u001b[0mindices\u001b[0m\u001b[0;34m,\u001b[0m \u001b[0maxis\u001b[0m\u001b[0;34m=\u001b[0m\u001b[0;36m0\u001b[0m\u001b[0;34m)\u001b[0m\u001b[0;34m\u001b[0m\u001b[0;34m\u001b[0m\u001b[0m\n\u001b[0m\u001b[1;32m    220\u001b[0m         \u001b[0;32melse\u001b[0m\u001b[0;34m:\u001b[0m\u001b[0;34m\u001b[0m\u001b[0;34m\u001b[0m\u001b[0m\n\u001b[1;32m    221\u001b[0m             \u001b[0;32mreturn\u001b[0m \u001b[0mX\u001b[0m\u001b[0;34m[\u001b[0m\u001b[0mindices\u001b[0m\u001b[0;34m]\u001b[0m\u001b[0;34m\u001b[0m\u001b[0;34m\u001b[0m\u001b[0m\n",
      "\u001b[0;31mMemoryError\u001b[0m: Unable to allocate array with shape (2000000, 16, 16, 1) and data type float64"
     ]
    }
   ],
   "source": [
    "from sklearn.model_selection import train_test_split\n",
    "\n",
    "# Split the data into training and test sets\n",
    "x_train, x_test, y_train, y_test = train_test_split(images, labels, test_size = 0.2)\n",
    "print(\"Training and test data shapes:\")\n",
    "print(\"x_train: {}\".format(x_train.shape))\n",
    "print(\"x_test: {}\".format(x_test.shape))\n",
    "print(\"y_train: {}\".format(y_train.shape))\n",
    "print(\"y_test: {}\".format(y_test.shape))\n"
   ]
  },
  {
   "cell_type": "markdown",
   "metadata": {},
   "source": [
    "## Build and compile model\n",
    "Using Keras as our framework with Tensorflow backend"
   ]
  },
  {
   "cell_type": "code",
   "execution_count": 3,
   "metadata": {
    "scrolled": true
   },
   "outputs": [
    {
     "name": "stdout",
     "output_type": "stream",
     "text": [
      "Model: \"sequential\"\n",
      "_________________________________________________________________\n",
      "Layer (type)                 Output Shape              Param #   \n",
      "=================================================================\n",
      "conv2d (Conv2D)              (None, 16, 16, 32)        320       \n",
      "_________________________________________________________________\n",
      "activation (Activation)      (None, 16, 16, 32)        0         \n",
      "_________________________________________________________________\n",
      "conv2d_1 (Conv2D)            (None, 14, 14, 64)        18496     \n",
      "_________________________________________________________________\n",
      "activation_1 (Activation)    (None, 14, 14, 64)        0         \n",
      "_________________________________________________________________\n",
      "max_pooling2d (MaxPooling2D) (None, 7, 7, 64)          0         \n",
      "_________________________________________________________________\n",
      "dropout (Dropout)            (None, 7, 7, 64)          0         \n",
      "_________________________________________________________________\n",
      "dense (Dense)                (None, 7, 7, 128)         8320      \n",
      "_________________________________________________________________\n",
      "activation_2 (Activation)    (None, 7, 7, 128)         0         \n",
      "_________________________________________________________________\n",
      "dropout_1 (Dropout)          (None, 7, 7, 128)         0         \n",
      "_________________________________________________________________\n",
      "flatten (Flatten)            (None, 6272)              0         \n",
      "_________________________________________________________________\n",
      "dense_1 (Dense)              (None, 2)                 12546     \n",
      "_________________________________________________________________\n",
      "activation_3 (Activation)    (None, 2)                 0         \n",
      "=================================================================\n",
      "Total params: 39,682\n",
      "Trainable params: 39,682\n",
      "Non-trainable params: 0\n",
      "_________________________________________________________________\n",
      "None\n"
     ]
    }
   ],
   "source": [
    "from tensorflow.keras.models import Sequential\n",
    "from tensorflow.keras.layers import Dense, Dropout, Flatten, Activation\n",
    "from tensorflow.keras.layers import Conv2D, MaxPooling2D\n",
    "from tensorflow.keras import backend\n",
    "\n",
    "# Set up sequential model like Labollitas project to reproduce results\n",
    "model = Sequential()\n",
    "\n",
    "model.add(Conv2D(32, (3, 3), padding='same', input_shape=x_train.shape[1:]))\n",
    "model.add(Activation('relu'))\n",
    "model.add(Conv2D(64, (3, 3)))\n",
    "model.add(Activation('relu'))\n",
    "model.add(MaxPooling2D(pool_size=(2, 2)))\n",
    "model.add(Dropout(0.25))\n",
    "\n",
    "model.add(Dense(128))\n",
    "model.add(Activation('relu'))\n",
    "model.add(Dropout(0.5))\n",
    "model.add(Flatten())\n",
    "model.add(Dense(n_classes))\n",
    "model.add(Activation('softmax'))\n",
    "\n",
    "\n",
    "# Compile model\n",
    "# Originally adadelta optimizer\n",
    "model.compile(loss='categorical_crossentropy',\n",
    "              optimizer='adadelta',\n",
    "              metrics=[\"acc\"])\n",
    "\n",
    "# Output summary of model\n",
    "print(model.summary())\n",
    "\n"
   ]
  },
  {
   "cell_type": "markdown",
   "metadata": {},
   "source": [
    "## Train the model\n",
    "We also output the mean squared error and R2-score as evaluation metrics"
   ]
  },
  {
   "cell_type": "code",
   "execution_count": 4,
   "metadata": {
    "scrolled": true
   },
   "outputs": [
    {
     "name": "stderr",
     "output_type": "stream",
     "text": [
      "WARNING: Logging before flag parsing goes to stderr.\n",
      "W0821 13:06:43.689714 140236725401408 deprecation.py:323] From /home/geir/git/master_analysis/notebooks/pretrained/pretrained_venv/lib/python3.6/site-packages/tensorflow/python/ops/math_grad.py:1250: add_dispatch_support.<locals>.wrapper (from tensorflow.python.ops.array_ops) is deprecated and will be removed in a future version.\n",
      "Instructions for updating:\n",
      "Use tf.where in 2.0, which has the same broadcast rule as np.where\n"
     ]
    },
    {
     "name": "stdout",
     "output_type": "stream",
     "text": [
      "Train on 8000 samples, validate on 2000 samples\n",
      "Epoch 1/25\n",
      "8000/8000 [==============================] - 5s 566us/sample - loss: 6.7945 - acc: 0.5153 - val_loss: 6.4517 - val_acc: 0.5300\n",
      "Epoch 2/25\n",
      "8000/8000 [==============================] - 5s 563us/sample - loss: 6.7488 - acc: 0.5151 - val_loss: 6.4353 - val_acc: 0.5305\n",
      "Epoch 3/25\n",
      "8000/8000 [==============================] - 4s 467us/sample - loss: 6.8289 - acc: 0.5117 - val_loss: 6.4163 - val_acc: 0.5315\n",
      "Epoch 4/25\n",
      "8000/8000 [==============================] - 4s 465us/sample - loss: 6.8828 - acc: 0.5052 - val_loss: 6.4026 - val_acc: 0.5325\n",
      "Epoch 5/25\n",
      "8000/8000 [==============================] - 4s 501us/sample - loss: 6.6852 - acc: 0.5196 - val_loss: 6.3888 - val_acc: 0.5315\n",
      "Epoch 6/25\n",
      "8000/8000 [==============================] - 4s 489us/sample - loss: 6.6576 - acc: 0.5205 - val_loss: 6.3703 - val_acc: 0.5355\n",
      "Epoch 7/25\n",
      "8000/8000 [==============================] - 4s 479us/sample - loss: 6.7370 - acc: 0.5178 - val_loss: 6.3664 - val_acc: 0.5340\n",
      "Epoch 8/25\n",
      "8000/8000 [==============================] - 4s 480us/sample - loss: 6.7695 - acc: 0.5120 - val_loss: 6.3496 - val_acc: 0.5355\n",
      "Epoch 9/25\n",
      "8000/8000 [==============================] - 4s 485us/sample - loss: 6.7116 - acc: 0.5169 - val_loss: 6.3385 - val_acc: 0.5345\n",
      "Epoch 10/25\n",
      "8000/8000 [==============================] - 4s 481us/sample - loss: 6.7116 - acc: 0.5186 - val_loss: 6.3219 - val_acc: 0.5345\n",
      "Epoch 11/25\n",
      "8000/8000 [==============================] - 4s 551us/sample - loss: 6.8321 - acc: 0.5089 - val_loss: 6.3163 - val_acc: 0.5360\n",
      "Epoch 12/25\n",
      "8000/8000 [==============================] - 4s 474us/sample - loss: 6.7502 - acc: 0.5140 - val_loss: 6.3103 - val_acc: 0.5360\n",
      "Epoch 13/25\n",
      "8000/8000 [==============================] - 4s 481us/sample - loss: 6.8201 - acc: 0.5088 - val_loss: 6.2959 - val_acc: 0.5350\n",
      "Epoch 14/25\n",
      "8000/8000 [==============================] - 4s 481us/sample - loss: 6.7842 - acc: 0.5126 - val_loss: 6.2862 - val_acc: 0.5350\n",
      "Epoch 15/25\n",
      "8000/8000 [==============================] - 4s 459us/sample - loss: 6.8805 - acc: 0.5079 - val_loss: 6.2797 - val_acc: 0.5350\n",
      "Epoch 16/25\n",
      "8000/8000 [==============================] - 4s 463us/sample - loss: 6.6610 - acc: 0.5178 - val_loss: 6.2665 - val_acc: 0.5360\n",
      "Epoch 17/25\n",
      "8000/8000 [==============================] - 4s 465us/sample - loss: 6.6922 - acc: 0.5175 - val_loss: 6.2505 - val_acc: 0.5360\n",
      "Epoch 18/25\n",
      "8000/8000 [==============================] - 4s 463us/sample - loss: 6.6495 - acc: 0.5190 - val_loss: 6.2410 - val_acc: 0.5360\n",
      "Epoch 19/25\n",
      "8000/8000 [==============================] - 4s 466us/sample - loss: 6.7519 - acc: 0.5150 - val_loss: 6.2255 - val_acc: 0.5360\n",
      "Epoch 20/25\n",
      "8000/8000 [==============================] - 4s 475us/sample - loss: 6.8343 - acc: 0.5064 - val_loss: 6.2154 - val_acc: 0.5360\n",
      "Epoch 21/25\n",
      "8000/8000 [==============================] - 4s 462us/sample - loss: 6.7774 - acc: 0.5107 - val_loss: 6.2038 - val_acc: 0.5350\n",
      "Epoch 22/25\n",
      "8000/8000 [==============================] - 4s 461us/sample - loss: 6.8488 - acc: 0.5052 - val_loss: 6.1925 - val_acc: 0.5355\n",
      "Epoch 23/25\n",
      "8000/8000 [==============================] - 4s 470us/sample - loss: 6.6873 - acc: 0.5157 - val_loss: 6.1810 - val_acc: 0.5370\n",
      "Epoch 24/25\n",
      "8000/8000 [==============================] - 4s 465us/sample - loss: 6.6655 - acc: 0.5184 - val_loss: 6.1717 - val_acc: 0.5355\n",
      "Epoch 25/25\n",
      "8000/8000 [==============================] - 4s 475us/sample - loss: 6.7014 - acc: 0.5129 - val_loss: 6.1621 - val_acc: 0.5360\n"
     ]
    }
   ],
   "source": [
    "# Parameters for the model\n",
    "batch_size = 128\n",
    "epochs = 25\n",
    "\n",
    "history = model.fit(x_train, y_train, \n",
    "                    batch_size=batch_size, \n",
    "                    epochs=epochs, \n",
    "                    validation_data=(x_test, y_test), \n",
    "                    shuffle=True)"
   ]
  },
  {
   "cell_type": "markdown",
   "metadata": {},
   "source": [
    "## Plot history of metrics on training and test set"
   ]
  },
  {
   "cell_type": "code",
   "execution_count": 5,
   "metadata": {},
   "outputs": [
    {
     "data": {
      "image/png": "[encoded data removed]",
      "text/plain": [
       "<Figure size 432x288 with 1 Axes>"
      ]
     },
     "metadata": {
      "needs_background": "light"
     },
     "output_type": "display_data"
    },
    {
     "data": {
      "image/png": "[encoded data removed]",
      "text/plain": [
       "<Figure size 432x288 with 1 Axes>"
      ]
     },
     "metadata": {
      "needs_background": "light"
     },
     "output_type": "display_data"
    }
   ],
   "source": [
    "%matplotlib inline\n",
    "\n",
    "plt.plot(history.history['acc'])\n",
    "plt.plot(history.history['val_acc'])\n",
    "plt.title('model accuracy')\n",
    "plt.ylabel('accuracy')\n",
    "plt.xlabel('epoch')\n",
    "plt.legend(['train', 'test'], loc='upper left')\n",
    "plt.show()\n",
    "# summarize history for loss\n",
    "plt.plot(history.history['loss'])\n",
    "plt.plot(history.history['val_loss'])\n",
    "plt.title('model loss (categorical_crossentropy)')\n",
    "plt.ylabel('loss')\n",
    "plt.xlabel('epoch')\n",
    "plt.legend(['train', 'test'], loc='upper left')\n",
    "plt.show()"
   ]
  }
 ],
 "metadata": {
  "kernelspec": {
   "display_name": "pretrained_venv",
   "language": "python",
   "name": "pretrained_venv"
  },
  "language_info": {
   "codemirror_mode": {
    "name": "ipython",
    "version": 3
   },
   "file_extension": ".py",
   "mimetype": "text/x-python",
   "name": "python",
   "nbconvert_exporter": "python",
   "pygments_lexer": "ipython3",
   "version": "3.6.8"
  }
 },
 "nbformat": 4,
 "nbformat_minor": 2
}
