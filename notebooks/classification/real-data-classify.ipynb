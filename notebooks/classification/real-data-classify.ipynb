{
 "cells": [
  {
   "cell_type": "markdown",
   "metadata": {},
   "source": [
    "# Classifying on real data\n"
   ]
  },
  {
   "cell_type": "code",
   "execution_count": 1,
   "metadata": {},
   "outputs": [],
   "source": [
    "# Imports\n",
    "import numpy as np\n",
    "import tensorflow as tf\n",
    "from tensorflow.keras.utils import to_categorical\n",
    "from sklearn.model_selection import train_test_split\n",
    "import sys\n",
    "import json\n",
    "import matplotlib.pyplot as plt\n",
    "from master_scripts.data_functions import *\n",
    "from master_scripts.analysis_functions import *\n",
    "from tqdm import tqdm\n",
    "%load_ext autoreload\n",
    "%autoreload 2\n"
   ]
  },
  {
   "cell_type": "markdown",
   "metadata": {},
   "source": [
    "## Data import"
   ]
  },
  {
   "cell_type": "code",
   "execution_count": null,
   "metadata": {
    "scrolled": false
   },
   "outputs": [],
   "source": [
    "config = {\n",
    "    \"DATA_PATH\": \"../../data/real/anodedata_short.txt\",\n",
    "    \"DATA_FILENAME\": \"anodedata_short.txt\",\n",
    "    \"SAMPLE_PATH\": \"../../data/sample/CeBr10k_1.txt\",\n",
    "    \"MODEL_PATH\": \"../../data/output/models/\",   \n",
    "    \"OUTPUT_PATH\": \"../../data/output/\",\n",
    "    \"CLASSIFIER\": \"Project-0.97.hdf5\",                      \n",
    "    \"SINGLE_ENERGY_MODEL\": \"cnn_energy_single_r2_0.97.hdf5\",    \n",
    "    \"SINGLE_POSITION_MODEL\": \"cnn_pos_single_mse_0.00083.hdf5\",\n",
    "    \"DOUBLE_ENERGY_MODEL\": \"double_energy_model_name.hdf5\",    \n",
    "    \"DOUBLE_POSITION_MODEL\": \"double_position_model_name.hdf5\" \n",
    "}\n",
    "\n"
   ]
  },
  {
   "cell_type": "code",
   "execution_count": null,
   "metadata": {},
   "outputs": [],
   "source": [
    "events, images = import_real_data(config) # images not normalized\n",
    "images = normalize_image_data(images)\n",
    "\n",
    "# load classification results (doesn't contain images)\n",
    "with open(config['OUTPUT_PATH']+\"events_classified_anodedata_short.json\") as fp:\n",
    "    events = json.load(fp)\n"
   ]
  },
  {
   "cell_type": "markdown",
   "metadata": {},
   "source": [
    "# Results\n",
    "## Plots\n",
    "### Histogram of descriptor vs predicted class"
   ]
  },
  {
   "cell_type": "markdown",
   "metadata": {},
   "source": [
    "## Preliminary results on anodedata_short.txt\n",
    "\n",
    "|Event descriptor | Event type                   | singles | doubles |\n",
    "| :---           |  :---:                       | :---:   | :---:   |\n",
    "|        1        |           Implant            |  1007   |  59923  |\n",
    "|        2        |            Decay             | 174274  |    0    |\n",
    "|        4        |          Light ion           |  4328   |  96827  |\n",
    "|       10        |    Decay + Double (time)     |   421   |    0    |\n",
    "|       12        |  Light ion + Double (time)   |    1    |    0    |\n",
    "|       16        |        Double (space)        |    2    |   11    |\n",
    "\n"
   ]
  },
  {
   "cell_type": "code",
   "execution_count": null,
   "metadata": {},
   "outputs": [],
   "source": [
    "# Extract doubles\n",
    "doubles = []\n",
    "for event_id, event in events.items():\n",
    "    if event['event_descriptor'] == 16:\n",
    "        doubles.append(event_id)"
   ]
  },
  {
   "cell_type": "code",
   "execution_count": null,
   "metadata": {},
   "outputs": [],
   "source": [
    "# Plot the doubles and event_class from model\n",
    "fig, ax = plt.subplots(5,3, figsize=(14,20))\n",
    "idx = 0\n",
    "for row in ax:\n",
    "    for ax_col in row:\n",
    "        if idx >= len(doubles):\n",
    "            break\n",
    "        ax_col.imshow(images[events[doubles[idx]]['image_idx']].reshape((16,16)), origin='lower')\n",
    "        ax_col.text(0,14.6 , \"id: \" + doubles[idx], fontsize=11, color='red')\n",
    "        ax_col.text(8,14.6, events[doubles[idx]]['event_class'], fontsize=11, color='red')\n",
    "        idx += 1\n",
    "fig.savefig(\"test.pdf\")\n",
    "    \n",
    "    "
   ]
  }
 ],
 "metadata": {
  "hide_input": false,
  "kernelspec": {
   "display_name": "master_venv",
   "language": "python",
   "name": "master_venv"
  },
  "language_info": {
   "codemirror_mode": {
    "name": "ipython",
    "version": 3
   },
   "file_extension": ".py",
   "mimetype": "text/x-python",
   "name": "python",
   "nbconvert_exporter": "python",
   "pygments_lexer": "ipython3",
   "version": "3.7.7"
  },
  "latex_envs": {
   "LaTeX_envs_menu_present": true,
   "autoclose": false,
   "autocomplete": true,
   "bibliofile": "biblio.bib",
   "cite_by": "apalike",
   "current_citInitial": 1,
   "eqLabelWithNumbers": true,
   "eqNumInitial": 1,
   "hotkeys": {
    "equation": "Ctrl-E",
    "itemize": "Ctrl-I"
   },
   "labels_anchors": false,
   "latex_user_defs": false,
   "report_style_numbering": false,
   "user_envs_cfg": false
  },
  "toc": {
   "base_numbering": 1,
   "nav_menu": {},
   "number_sections": true,
   "sideBar": true,
   "skip_h1_title": false,
   "title_cell": "Table of Contents",
   "title_sidebar": "Contents",
   "toc_cell": false,
   "toc_position": {},
   "toc_section_display": true,
   "toc_window_display": false
  }
 },
 "nbformat": 4,
 "nbformat_minor": 2
}
