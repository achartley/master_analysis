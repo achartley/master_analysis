{
 "cells": [
  {
   "cell_type": "markdown",
   "metadata": {},
   "source": [
    "# Classifying on real data\n"
   ]
  },
  {
   "cell_type": "code",
   "execution_count": 2,
   "metadata": {},
   "outputs": [
    {
     "name": "stdout",
     "output_type": "stream",
     "text": [
      "The autoreload extension is already loaded. To reload it, use:\n",
      "  %reload_ext autoreload\n"
     ]
    }
   ],
   "source": [
    "# Imports\n",
    "import numpy as np\n",
    "import tensorflow as tf\n",
    "from tensorflow.keras.utils import to_categorical\n",
    "from sklearn.model_selection import train_test_split\n",
    "import sys\n",
    "import json\n",
    "import matplotlib.pyplot as plt\n",
    "import seaborn as sns\n",
    "from master_scripts.data_functions import *\n",
    "from master_scripts.analysis_functions import *\n",
    "from master_scripts.plotting import plot_event\n",
    "%load_ext autoreload\n",
    "%autoreload 2\n",
    "sns.set()"
   ]
  },
  {
   "cell_type": "markdown",
   "metadata": {},
   "source": [
    "## Data import"
   ]
  },
  {
   "cell_type": "code",
   "execution_count": 3,
   "metadata": {},
   "outputs": [],
   "source": [
    "repo_root = get_git_root()\n",
    "DATA_PATH = \"../../data/real/anodedata_500k.txt\"\n",
    "DATA_FILENAME = \"anodedata_500k.txt\"\n",
    "MODEL_PATH = \"../../models/\"\n",
    "RESULTS_PATH = \"../../results/\"\n",
    "CLASSIFIER = \"4557cfeefc83.h5\"\n"
   ]
  },
  {
   "cell_type": "code",
   "execution_count": 4,
   "metadata": {},
   "outputs": [
    {
     "name": "stdout",
     "output_type": "stream",
     "text": [
      "==== Experiment metrics\n",
      "{\n",
      "  \"accuracy_score\": 0.9782421052631579,\n",
      "  \"confusion_matrix\": {\n",
      "    \"TN\": 236943,\n",
      "    \"FP\": 589,\n",
      "    \"FN\": 9746,\n",
      "    \"TP\": 227722\n",
      "  },\n",
      "  \"f1_score\": 0.9778113654759016,\n",
      "  \"matthews_corrcoef\": 0.9571957148197215,\n",
      "  \"roc_auc_score\": 0.9924280110669701\n",
      "}\n",
      "====\n"
     ]
    }
   ],
   "source": [
    "# Load experiment and associated model (must be a saved model instance complete with weights)\n",
    "experiment_id = \"4557cfeefc83\"\n",
    "experiment = load_experiment(experiment_id)\n",
    "model = tf.keras.models.load_model(repo_root + \"models/\" + experiment_id + \".h5\")\n",
    "# Print experiment metrics\n",
    "print(\"==== Experiment metrics\")\n",
    "print(json.dumps(experiment[\"metrics\"], indent=2))\n",
    "print(\"====\")"
   ]
  },
  {
   "cell_type": "code",
   "execution_count": 17,
   "metadata": {},
   "outputs": [],
   "source": [
    "events, images = import_real_data(DATA_PATH) # images not normalized\n",
    "#images = normalize_image_data(images)\n",
    "\n",
    "# load classification results (doesn't contain images)\n",
    "with open(RESULTS_PATH + \"events_classified_\" + DATA_FILENAME[:-4] + \"_\" + CLASSIFIER[:-3] + \".json\") as fp:\n",
    "    events = json.load(fp)\n"
   ]
  },
  {
   "cell_type": "code",
   "execution_count": 6,
   "metadata": {},
   "outputs": [
    {
     "name": "stdout",
     "output_type": "stream",
     "text": [
      "17\n"
     ]
    }
   ],
   "source": [
    "descriptors = list([event['event_descriptor'] for event in events.values()])\n",
    "print(descriptors.count(16))"
   ]
  },
  {
   "cell_type": "code",
   "execution_count": 7,
   "metadata": {},
   "outputs": [],
   "source": [
    "# Extract doubles\n",
    "doubles = []\n",
    "ion_double_t = []\n",
    "for event_id, event in events.items():\n",
    "    if event['event_descriptor'] == 16:\n",
    "        doubles.append(event_id)\n",
    "    if event['event_descriptor'] == 12:\n",
    "        ion_double_t.append(event_id)"
   ]
  },
  {
   "cell_type": "code",
   "execution_count": 8,
   "metadata": {},
   "outputs": [
    {
     "name": "stdout",
     "output_type": "stream",
     "text": [
      "17\n"
     ]
    }
   ],
   "source": [
    "print(len(doubles))"
   ]
  },
  {
   "cell_type": "code",
   "execution_count": null,
   "metadata": {},
   "outputs": [],
   "source": [
    "# Plot the doubles and event_class from model\n",
    "fig, axes = plt.subplots(6,3, figsize=(14,20), tight_layout=True)\n",
    "idx = 0\n",
    "for row in axes:\n",
    "    for ax_col in row:\n",
    "        if idx >= len(doubles):\n",
    "            break\n",
    "        curr_event = events[doubles[idx]]\n",
    "        plot_event(curr_event, doubles[idx], images[curr_event['image_idx']], ax_col)\n",
    "        idx += 1\n",
    "#fig.savefig(\"test.pdf\")\n",
    "    \n",
    "    "
   ]
  },
  {
   "cell_type": "markdown",
   "metadata": {},
   "source": [
    "## Plot doubles in time"
   ]
  },
  {
   "cell_type": "code",
   "execution_count": null,
   "metadata": {},
   "outputs": [],
   "source": [
    "# Light ions + double (time)\n",
    "fig, axes = plt.subplots(2, 3, figsize=(12, 6), tight_layout=True)\n",
    "idx = 0\n",
    "for row in axes:\n",
    "    for ax_col in row:\n",
    "        if idx >= len(ion_double_t):\n",
    "            break\n",
    "        curr_event = events[ion_double_t[idx]]\n",
    "        plot_event(curr_event, ion_double_t[idx], images[curr_event['image_idx']], ax_col)\n",
    "        idx += 1\n",
    "#fig.savefig(\"test.pdf\")\n"
   ]
  },
  {
   "cell_type": "markdown",
   "metadata": {},
   "source": [
    "# LIME analysis of select samples"
   ]
  },
  {
   "cell_type": "code",
   "execution_count": 12,
   "metadata": {},
   "outputs": [],
   "source": [
    "from lime import lime_image"
   ]
  },
  {
   "cell_type": "code",
   "execution_count": 18,
   "metadata": {},
   "outputs": [
    {
     "name": "stdout",
     "output_type": "stream",
     "text": [
      "(1, 16, 16, 3)\n"
     ]
    },
    {
     "data": {
      "image/png": "[encoded data removed]",
      "text/plain": [
       "<Figure size 432x288 with 2 Axes>"
      ]
     },
     "metadata": {},
     "output_type": "display_data"
    }
   ],
   "source": [
    "e_idx = '1190887'\n",
    "image = images[events[e_idx]['image_idx']]\n",
    "#image = images[events['1783487']['image_idx']]\n",
    "#image = images[events['478726']['image_idx']]\n",
    "# convert image to pseudo-rgb for LIME\n",
    "image_conv = np.concatenate((image, image, image), axis=-1).astype(np.double).reshape(1, 16, 16, 3)\n",
    "print(image_conv.shape)\n",
    "\n",
    "ax = plot_event(events[e_idx], e_idx, image)"
   ]
  },
  {
   "cell_type": "code",
   "execution_count": 21,
   "metadata": {},
   "outputs": [
    {
     "data": {
      "application/vnd.jupyter.widget-view+json": {
       "model_id": "dc7c074e58444011a48847a5378a78a1",
       "version_major": 2,
       "version_minor": 0
      },
      "text/plain": [
       "HBox(children=(FloatProgress(value=0.0, max=1000.0), HTML(value='')))"
      ]
     },
     "metadata": {},
     "output_type": "display_data"
    },
    {
     "name": "stdout",
     "output_type": "stream",
     "text": [
      "\n"
     ]
    }
   ],
   "source": [
    "def new_predict_fn(images):\n",
    "    \"Custom predict function for LIME explanations\"\n",
    "    images = images[:,:, :, 0].reshape(images.shape[0], 16, 16, 1)\n",
    "    return model.predict(normalize_image_data(images))\n",
    "\n",
    "explainer = lime_image.LimeImageExplainer()\n",
    "explanation = explainer.explain_instance(image_conv.reshape(16,16,3), new_predict_fn, top_labels=5, hide_color=0, num_samples=1000)"
   ]
  },
  {
   "cell_type": "code",
   "execution_count": 23,
   "metadata": {},
   "outputs": [
    {
     "name": "stderr",
     "output_type": "stream",
     "text": [
      "Clipping input data to the valid range for imshow with RGB data ([0..1] for floats or [0..255] for integers).\n"
     ]
    },
    {
     "data": {
      "text/plain": [
       "<matplotlib.image.AxesImage at 0x7f42b976cf10>"
      ]
     },
     "execution_count": 23,
     "metadata": {},
     "output_type": "execute_result"
    },
    {
     "data": {
      "image/png": "[encoded data removed]",
      "text/plain": [
       "<Figure size 432x288 with 1 Axes>"
      ]
     },
     "metadata": {},
     "output_type": "display_data"
    }
   ],
   "source": [
    "from skimage.segmentation import mark_boundaries\n",
    "temp, mask = explanation.get_image_and_mask(explanation.top_labels[0], positive_only=False, num_features=5, hide_rest=False)\n",
    "plt.grid(None)\n",
    "plt.imshow(mark_boundaries(temp / 2 + 0.5, mask), origin='lower') "
   ]
  }
 ],
 "metadata": {
  "hide_input": false,
  "kernelspec": {
   "display_name": "Python 3",
   "language": "python",
   "name": "python3"
  },
  "language_info": {
   "codemirror_mode": {
    "name": "ipython",
    "version": 3
   },
   "file_extension": ".py",
   "mimetype": "text/x-python",
   "name": "python",
   "nbconvert_exporter": "python",
   "pygments_lexer": "ipython3",
   "version": "3.8.5"
  },
  "latex_envs": {
   "LaTeX_envs_menu_present": true,
   "autoclose": false,
   "autocomplete": true,
   "bibliofile": "biblio.bib",
   "cite_by": "apalike",
   "current_citInitial": 1,
   "eqLabelWithNumbers": true,
   "eqNumInitial": 1,
   "hotkeys": {
    "equation": "Ctrl-E",
    "itemize": "Ctrl-I"
   },
   "labels_anchors": false,
   "latex_user_defs": false,
   "report_style_numbering": false,
   "user_envs_cfg": false
  },
  "toc": {
   "base_numbering": 1,
   "nav_menu": {},
   "number_sections": true,
   "sideBar": true,
   "skip_h1_title": false,
   "title_cell": "Table of Contents",
   "title_sidebar": "Contents",
   "toc_cell": false,
   "toc_position": {},
   "toc_section_display": true,
   "toc_window_display": false
  }
 },
 "nbformat": 4,
 "nbformat_minor": 4
}
